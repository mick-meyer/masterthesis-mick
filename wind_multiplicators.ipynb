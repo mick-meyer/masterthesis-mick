{
 "cells": [
  {
   "cell_type": "code",
   "execution_count": 1,
   "metadata": {},
   "outputs": [],
   "source": [
    "import pypsa\n",
    "import xarray as xr"
   ]
  },
  {
   "cell_type": "code",
   "execution_count": 2,
   "metadata": {},
   "outputs": [
    {
     "name": "stderr",
     "output_type": "stream",
     "text": [
      "INFO:pypsa.io:Imported network base_s_1__none_2045_lt.nc has buses, carriers, generators, global_constraints, links, loads, storage_units, stores\n",
      "WARNING:pypsa.components:The following buses have no attached components, which can break the lopf:\n",
      "{'DE', 'EU'}\n"
     ]
    },
    {
     "data": {
      "text/plain": [
       "Linopy LP model\n",
       "===============\n",
       "\n",
       "Variables:\n",
       "----------\n",
       " * Generator-p (snapshot, Generator)\n",
       " * Link-p (snapshot, Link)\n",
       " * Store-e (snapshot, Store)\n",
       " * StorageUnit-p_dispatch (snapshot, StorageUnit)\n",
       " * StorageUnit-p_store (snapshot, StorageUnit)\n",
       " * StorageUnit-state_of_charge (snapshot, StorageUnit)\n",
       " * StorageUnit-spill (snapshot, StorageUnit)\n",
       " * Store-p (snapshot, Store)\n",
       "\n",
       "Constraints:\n",
       "------------\n",
       " * Generator-fix-p-lower (snapshot, Generator-fix)\n",
       " * Generator-fix-p-upper (snapshot, Generator-fix)\n",
       " * Link-fix-p-lower (snapshot, Link-fix)\n",
       " * Link-fix-p-upper (snapshot, Link-fix)\n",
       " * Store-fix-e-lower (snapshot, Store-fix)\n",
       " * Store-fix-e-upper (snapshot, Store-fix)\n",
       " * StorageUnit-fix-p_dispatch-lower (snapshot, StorageUnit-fix)\n",
       " * StorageUnit-fix-p_dispatch-upper (snapshot, StorageUnit-fix)\n",
       " * StorageUnit-fix-p_store-lower (snapshot, StorageUnit-fix)\n",
       " * StorageUnit-fix-p_store-upper (snapshot, StorageUnit-fix)\n",
       " * StorageUnit-fix-state_of_charge-lower (snapshot, StorageUnit-fix)\n",
       " * StorageUnit-fix-state_of_charge-upper (snapshot, StorageUnit-fix)\n",
       " * Bus-nodal_balance (Bus, snapshot)\n",
       " * Bus-meshed-nodal_balance (Bus-meshed, snapshot)\n",
       " * StorageUnit-energy_balance (snapshot, StorageUnit)\n",
       " * Store-energy_balance (snapshot, Store)\n",
       " * GlobalConstraint-co2_sequestration_limit (snapshot)\n",
       "\n",
       "Status:\n",
       "-------\n",
       "initialized"
      ]
     },
     "execution_count": 2,
     "metadata": {},
     "output_type": "execute_result"
    }
   ],
   "source": [
    "n = pypsa.Network(\"test/base_s_1__none_2045_lt.nc\")\n",
    "\n",
    "n.optimize.fix_optimal_capacities()\n",
    "n.optimize.create_model()\n",
    "\n",
    "print()\n"
   ]
  },
  {
   "cell_type": "code",
   "execution_count": 45,
   "metadata": {},
   "outputs": [],
   "source": [
    "cf_onwind_2045 = n.model.constraints[\"Generator-fix-p-upper\"].sel({\"Generator-fix\": \"DE0 0 onwind-2045\"}).rhs / n.generators.p_nom[\"DE0 0 onwind-2045\"]\n",
    "cf_onwind_2040 = n.model.constraints[\"Generator-fix-p-upper\"].sel({\"Generator-fix\": \"DE0 0 onwind-2040\"}).rhs / n.generators.p_nom[\"DE0 0 onwind-2040\"]\n",
    "cf_onwind_2035 = n.model.constraints[\"Generator-fix-p-upper\"].sel({\"Generator-fix\": \"DE0 0 onwind-2035\"}).rhs / n.generators.p_nom[\"DE0 0 onwind-2035\"]\n",
    "cf_onwind_2030 = n.model.constraints[\"Generator-fix-p-upper\"].sel({\"Generator-fix\": \"DE0 0 onwind-2030\"}).rhs / n.generators.p_nom[\"DE0 0 onwind-2030\"]\n",
    "cf_onwind_2025 = n.model.constraints[\"Generator-fix-p-upper\"].sel({\"Generator-fix\": \"DE0 0 onwind-2025\"}).rhs / n.generators.p_nom[\"DE0 0 onwind-2025\"]\n",
    "cf_onwind_2020 = n.model.constraints[\"Generator-fix-p-upper\"].sel({\"Generator-fix\": \"DE0 0 onwind-2020\"}).rhs / n.generators.p_nom[\"DE0 0 onwind-2020\"]\n"
   ]
  },
  {
   "cell_type": "code",
   "execution_count": 55,
   "metadata": {},
   "outputs": [
    {
     "data": {
      "text/plain": [
       "30.0"
      ]
     },
     "execution_count": 55,
     "metadata": {},
     "output_type": "execute_result"
    }
   ],
   "source": [
    "n.generators.lifetime[\"DE0 0 offwind-dc-2025\"]"
   ]
  },
  {
   "cell_type": "code",
   "execution_count": 22,
   "metadata": {},
   "outputs": [],
   "source": [
    "import numpy as np"
   ]
  },
  {
   "cell_type": "code",
   "execution_count": 43,
   "metadata": {},
   "outputs": [
    {
     "data": {
      "text/plain": [
       "array([0.47870898, 0.61818876, 0.71015604, ..., 0.17762537, 0.14780472,\n",
       "       0.10291334])"
      ]
     },
     "execution_count": 43,
     "metadata": {},
     "output_type": "execute_result"
    }
   ],
   "source": [
    "cf_onwind_2030.data"
   ]
  },
  {
   "cell_type": "code",
   "execution_count": 27,
   "metadata": {},
   "outputs": [
    {
     "name": "stdout",
     "output_type": "stream",
     "text": [
      "False\n"
     ]
    }
   ],
   "source": [
    "print(np.array_equal(cf_onwind_2045.data.round(3), cf_onwind_2030.data.round(3)))"
   ]
  },
  {
   "cell_type": "code",
   "execution_count": 68,
   "metadata": {},
   "outputs": [
    {
     "name": "stderr",
     "output_type": "stream",
     "text": [
      "INFO:pypsa.io:Imported network base_s_1__none_2045_lt.nc has buses, carriers, generators, global_constraints, links, loads, storage_units, stores\n",
      "WARNING:pypsa.components:The following buses have no attached components, which can break the lopf:\n",
      "{'DE', 'EU'}\n"
     ]
    },
    {
     "data": {
      "text/plain": [
       "Linopy LP model\n",
       "===============\n",
       "\n",
       "Variables:\n",
       "----------\n",
       " * Generator-p (snapshot, Generator)\n",
       " * Link-p (snapshot, Link)\n",
       " * Store-e (snapshot, Store)\n",
       " * StorageUnit-p_dispatch (snapshot, StorageUnit)\n",
       " * StorageUnit-p_store (snapshot, StorageUnit)\n",
       " * StorageUnit-state_of_charge (snapshot, StorageUnit)\n",
       " * StorageUnit-spill (snapshot, StorageUnit)\n",
       " * Store-p (snapshot, Store)\n",
       "\n",
       "Constraints:\n",
       "------------\n",
       " * Generator-fix-p-lower (snapshot, Generator-fix)\n",
       " * Generator-fix-p-upper (snapshot, Generator-fix)\n",
       " * Link-fix-p-lower (snapshot, Link-fix)\n",
       " * Link-fix-p-upper (snapshot, Link-fix)\n",
       " * Store-fix-e-lower (snapshot, Store-fix)\n",
       " * Store-fix-e-upper (snapshot, Store-fix)\n",
       " * StorageUnit-fix-p_dispatch-lower (snapshot, StorageUnit-fix)\n",
       " * StorageUnit-fix-p_dispatch-upper (snapshot, StorageUnit-fix)\n",
       " * StorageUnit-fix-p_store-lower (snapshot, StorageUnit-fix)\n",
       " * StorageUnit-fix-p_store-upper (snapshot, StorageUnit-fix)\n",
       " * StorageUnit-fix-state_of_charge-lower (snapshot, StorageUnit-fix)\n",
       " * StorageUnit-fix-state_of_charge-upper (snapshot, StorageUnit-fix)\n",
       " * Bus-nodal_balance (Bus, snapshot)\n",
       " * Bus-meshed-nodal_balance (Bus-meshed, snapshot)\n",
       " * StorageUnit-energy_balance (snapshot, StorageUnit)\n",
       " * Store-energy_balance (snapshot, Store)\n",
       " * GlobalConstraint-co2_sequestration_limit (snapshot)\n",
       "\n",
       "Status:\n",
       "-------\n",
       "initialized"
      ]
     },
     "execution_count": 68,
     "metadata": {},
     "output_type": "execute_result"
    }
   ],
   "source": [
    "m = pypsa.Network(\"test/base_s_1__none_2045_lt.nc\")\n",
    "\n",
    "m.optimize.fix_optimal_capacities()\n",
    "m.optimize.create_model()\n"
   ]
  },
  {
   "cell_type": "code",
   "execution_count": 69,
   "metadata": {},
   "outputs": [
    {
     "name": "stderr",
     "output_type": "stream",
     "text": [
      "INFO:pypsa.optimization.abstract:Optimizing network for snapshot horizon [2019-01-01 00:00:00:2019-12-31 21:00:00] (1/1).\n",
      "WARNING:pypsa.components:The following buses have no attached components, which can break the lopf:\n",
      "{'DE', 'EU'}\n",
      "WARNING:pypsa.components:The following buses have no attached components, which can break the lopf:\n",
      "{'DE', 'EU'}\n",
      "INFO:linopy.model: Solve problem using Gurobi solver\n"
     ]
    },
    {
     "name": "stdout",
     "output_type": "stream",
     "text": [
      "Set parameter Username\n"
     ]
    },
    {
     "name": "stderr",
     "output_type": "stream",
     "text": [
      "INFO:gurobipy:Set parameter Username\n"
     ]
    },
    {
     "name": "stdout",
     "output_type": "stream",
     "text": [
      "Set parameter LicenseID to value 2637156\n"
     ]
    },
    {
     "name": "stderr",
     "output_type": "stream",
     "text": [
      "INFO:gurobipy:Set parameter LicenseID to value 2637156\n"
     ]
    },
    {
     "name": "stdout",
     "output_type": "stream",
     "text": [
      "Academic license - for non-commercial use only - expires 2026-03-16\n"
     ]
    },
    {
     "name": "stderr",
     "output_type": "stream",
     "text": [
      "INFO:gurobipy:Academic license - for non-commercial use only - expires 2026-03-16\n",
      "INFO:linopy.io:Writing objective.\n",
      "Writing constraints.: 100%|\u001b[38;2;128;191;255m██████████\u001b[0m| 17/17 [00:07<00:00,  2.36it/s]\n",
      "Writing continuous variables.: 100%|\u001b[38;2;128;191;255m██████████\u001b[0m| 8/8 [00:01<00:00,  6.34it/s]\n",
      "INFO:linopy.io: Writing time: 9.42s\n"
     ]
    },
    {
     "name": "stdout",
     "output_type": "stream",
     "text": [
      "Read LP format model from file /private/var/folders/1l/8dfp16zs2w581ykzgwkyg8nw0000gn/T/linopy-problem-kw31ak1p.lp\n"
     ]
    },
    {
     "name": "stderr",
     "output_type": "stream",
     "text": [
      "INFO:gurobipy:Read LP format model from file /private/var/folders/1l/8dfp16zs2w581ykzgwkyg8nw0000gn/T/linopy-problem-kw31ak1p.lp\n"
     ]
    },
    {
     "name": "stdout",
     "output_type": "stream",
     "text": [
      "Reading time = 3.27 seconds\n"
     ]
    },
    {
     "name": "stderr",
     "output_type": "stream",
     "text": [
      "INFO:gurobipy:Reading time = 3.27 seconds\n"
     ]
    },
    {
     "name": "stdout",
     "output_type": "stream",
     "text": [
      "obj: 1442481 rows, 712467 columns, 2747706 nonzeros\n"
     ]
    },
    {
     "name": "stderr",
     "output_type": "stream",
     "text": [
      "INFO:gurobipy:obj: 1442481 rows, 712467 columns, 2747706 nonzeros\n"
     ]
    },
    {
     "name": "stdout",
     "output_type": "stream",
     "text": [
      "Gurobi Optimizer version 11.0.2 build v11.0.2rc0 (mac64[x86] - Darwin 24.4.0 24E263)\n"
     ]
    },
    {
     "name": "stderr",
     "output_type": "stream",
     "text": [
      "INFO:gurobipy:Gurobi Optimizer version 11.0.2 build v11.0.2rc0 (mac64[x86] - Darwin 24.4.0 24E263)\n"
     ]
    },
    {
     "name": "stdout",
     "output_type": "stream",
     "text": [
      "\n"
     ]
    },
    {
     "name": "stderr",
     "output_type": "stream",
     "text": [
      "INFO:gurobipy:\n"
     ]
    },
    {
     "name": "stdout",
     "output_type": "stream",
     "text": [
      "CPU model: Intel(R) Core(TM) i5-8257U CPU @ 1.40GHz\n"
     ]
    },
    {
     "name": "stderr",
     "output_type": "stream",
     "text": [
      "INFO:gurobipy:CPU model: Intel(R) Core(TM) i5-8257U CPU @ 1.40GHz\n"
     ]
    },
    {
     "name": "stdout",
     "output_type": "stream",
     "text": [
      "Thread count: 4 physical cores, 8 logical processors, using up to 8 threads\n"
     ]
    },
    {
     "name": "stderr",
     "output_type": "stream",
     "text": [
      "INFO:gurobipy:Thread count: 4 physical cores, 8 logical processors, using up to 8 threads\n"
     ]
    },
    {
     "name": "stdout",
     "output_type": "stream",
     "text": [
      "\n"
     ]
    },
    {
     "name": "stderr",
     "output_type": "stream",
     "text": [
      "INFO:gurobipy:\n"
     ]
    },
    {
     "name": "stdout",
     "output_type": "stream",
     "text": [
      "Optimize a model with 1442481 rows, 712467 columns and 2747706 nonzeros\n"
     ]
    },
    {
     "name": "stderr",
     "output_type": "stream",
     "text": [
      "INFO:gurobipy:Optimize a model with 1442481 rows, 712467 columns and 2747706 nonzeros\n"
     ]
    },
    {
     "name": "stdout",
     "output_type": "stream",
     "text": [
      "Model fingerprint: 0x706770b8\n"
     ]
    },
    {
     "name": "stderr",
     "output_type": "stream",
     "text": [
      "INFO:gurobipy:Model fingerprint: 0x706770b8\n"
     ]
    },
    {
     "name": "stdout",
     "output_type": "stream",
     "text": [
      "Coefficient statistics:\n"
     ]
    },
    {
     "name": "stderr",
     "output_type": "stream",
     "text": [
      "INFO:gurobipy:Coefficient statistics:\n"
     ]
    },
    {
     "name": "stdout",
     "output_type": "stream",
     "text": [
      "  Matrix range     [8e-03, 5e+00]\n"
     ]
    },
    {
     "name": "stderr",
     "output_type": "stream",
     "text": [
      "INFO:gurobipy:  Matrix range     [8e-03, 5e+00]\n"
     ]
    },
    {
     "name": "stdout",
     "output_type": "stream",
     "text": [
      "  Objective range  [3e-02, 6e+03]\n"
     ]
    },
    {
     "name": "stderr",
     "output_type": "stream",
     "text": [
      "INFO:gurobipy:  Objective range  [3e-02, 6e+03]\n"
     ]
    },
    {
     "name": "stdout",
     "output_type": "stream",
     "text": [
      "  Bounds range     [2e+01, 7e+02]\n"
     ]
    },
    {
     "name": "stderr",
     "output_type": "stream",
     "text": [
      "INFO:gurobipy:  Bounds range     [2e+01, 7e+02]\n"
     ]
    },
    {
     "name": "stdout",
     "output_type": "stream",
     "text": [
      "  RHS range        [1e-14, 2e+08]\n"
     ]
    },
    {
     "name": "stderr",
     "output_type": "stream",
     "text": [
      "INFO:gurobipy:  RHS range        [1e-14, 2e+08]\n"
     ]
    },
    {
     "name": "stdout",
     "output_type": "stream",
     "text": [
      "Presolve removed 1375442 rows and 269290 columns\n"
     ]
    },
    {
     "name": "stderr",
     "output_type": "stream",
     "text": [
      "INFO:gurobipy:Presolve removed 1375442 rows and 269290 columns\n"
     ]
    },
    {
     "name": "stdout",
     "output_type": "stream",
     "text": [
      "Presolve time: 2.71s\n"
     ]
    },
    {
     "name": "stderr",
     "output_type": "stream",
     "text": [
      "INFO:gurobipy:Presolve time: 2.71s\n"
     ]
    },
    {
     "name": "stdout",
     "output_type": "stream",
     "text": [
      "Presolved: 67039 rows, 443177 columns, 982536 nonzeros\n"
     ]
    },
    {
     "name": "stderr",
     "output_type": "stream",
     "text": [
      "INFO:gurobipy:Presolved: 67039 rows, 443177 columns, 982536 nonzeros\n"
     ]
    },
    {
     "name": "stdout",
     "output_type": "stream",
     "text": [
      "\n"
     ]
    },
    {
     "name": "stderr",
     "output_type": "stream",
     "text": [
      "INFO:gurobipy:\n"
     ]
    },
    {
     "name": "stdout",
     "output_type": "stream",
     "text": [
      "Concurrent LP optimizer: dual simplex and barrier\n"
     ]
    },
    {
     "name": "stderr",
     "output_type": "stream",
     "text": [
      "INFO:gurobipy:Concurrent LP optimizer: dual simplex and barrier\n"
     ]
    },
    {
     "name": "stdout",
     "output_type": "stream",
     "text": [
      "Showing barrier log only...\n"
     ]
    },
    {
     "name": "stderr",
     "output_type": "stream",
     "text": [
      "INFO:gurobipy:Showing barrier log only...\n"
     ]
    },
    {
     "name": "stdout",
     "output_type": "stream",
     "text": [
      "\n"
     ]
    },
    {
     "name": "stderr",
     "output_type": "stream",
     "text": [
      "INFO:gurobipy:\n"
     ]
    },
    {
     "name": "stdout",
     "output_type": "stream",
     "text": [
      "Ordering time: 0.06s\n"
     ]
    },
    {
     "name": "stderr",
     "output_type": "stream",
     "text": [
      "INFO:gurobipy:Ordering time: 0.06s\n"
     ]
    },
    {
     "name": "stdout",
     "output_type": "stream",
     "text": [
      "\n"
     ]
    },
    {
     "name": "stderr",
     "output_type": "stream",
     "text": [
      "INFO:gurobipy:\n"
     ]
    },
    {
     "name": "stdout",
     "output_type": "stream",
     "text": [
      "Barrier statistics:\n"
     ]
    },
    {
     "name": "stderr",
     "output_type": "stream",
     "text": [
      "INFO:gurobipy:Barrier statistics:\n"
     ]
    },
    {
     "name": "stdout",
     "output_type": "stream",
     "text": [
      " AA' NZ     : 1.990e+05\n"
     ]
    },
    {
     "name": "stderr",
     "output_type": "stream",
     "text": [
      "INFO:gurobipy: AA' NZ     : 1.990e+05\n"
     ]
    },
    {
     "name": "stdout",
     "output_type": "stream",
     "text": [
      " Factor NZ  : 1.666e+06 (roughly 200 MB of memory)\n"
     ]
    },
    {
     "name": "stderr",
     "output_type": "stream",
     "text": [
      "INFO:gurobipy: Factor NZ  : 1.666e+06 (roughly 200 MB of memory)\n"
     ]
    },
    {
     "name": "stdout",
     "output_type": "stream",
     "text": [
      " Factor Ops : 6.984e+07 (less than 1 second per iteration)\n"
     ]
    },
    {
     "name": "stderr",
     "output_type": "stream",
     "text": [
      "INFO:gurobipy: Factor Ops : 6.984e+07 (less than 1 second per iteration)\n"
     ]
    },
    {
     "name": "stdout",
     "output_type": "stream",
     "text": [
      " Threads    : 3\n"
     ]
    },
    {
     "name": "stderr",
     "output_type": "stream",
     "text": [
      "INFO:gurobipy: Threads    : 3\n"
     ]
    },
    {
     "name": "stdout",
     "output_type": "stream",
     "text": [
      "\n"
     ]
    },
    {
     "name": "stderr",
     "output_type": "stream",
     "text": [
      "INFO:gurobipy:\n"
     ]
    },
    {
     "name": "stdout",
     "output_type": "stream",
     "text": [
      "                  Objective                Residual\n"
     ]
    },
    {
     "name": "stderr",
     "output_type": "stream",
     "text": [
      "INFO:gurobipy:                  Objective                Residual\n"
     ]
    },
    {
     "name": "stdout",
     "output_type": "stream",
     "text": [
      "Iter       Primal          Dual         Primal    Dual     Compl     Time\n"
     ]
    },
    {
     "name": "stderr",
     "output_type": "stream",
     "text": [
      "INFO:gurobipy:Iter       Primal          Dual         Primal    Dual     Compl     Time\n"
     ]
    },
    {
     "name": "stdout",
     "output_type": "stream",
     "text": [
      "   0   1.01494862e+14 -2.58738544e+15  1.28e+11 1.76e+01  2.86e+10     3s\n"
     ]
    },
    {
     "name": "stderr",
     "output_type": "stream",
     "text": [
      "INFO:gurobipy:   0   1.01494862e+14 -2.58738544e+15  1.28e+11 1.76e+01  2.86e+10     3s\n"
     ]
    },
    {
     "name": "stdout",
     "output_type": "stream",
     "text": [
      "   1   1.86976585e+13 -2.08440180e+14  2.19e+10 2.10e-12  4.58e+09     3s\n"
     ]
    },
    {
     "name": "stderr",
     "output_type": "stream",
     "text": [
      "INFO:gurobipy:   1   1.86976585e+13 -2.08440180e+14  2.19e+10 2.10e-12  4.58e+09     3s\n"
     ]
    },
    {
     "name": "stdout",
     "output_type": "stream",
     "text": [
      "   2   2.29768586e+12 -6.07800877e+13  2.16e+09 8.94e-01  4.89e+08     4s\n"
     ]
    },
    {
     "name": "stderr",
     "output_type": "stream",
     "text": [
      "INFO:gurobipy:   2   2.29768586e+12 -6.07800877e+13  2.16e+09 8.94e-01  4.89e+08     4s\n"
     ]
    },
    {
     "name": "stdout",
     "output_type": "stream",
     "text": [
      "   3   4.85519176e+11 -1.85125029e+13  1.35e+08 6.33e-02  4.45e+07     4s\n"
     ]
    },
    {
     "name": "stderr",
     "output_type": "stream",
     "text": [
      "INFO:gurobipy:   3   4.85519176e+11 -1.85125029e+13  1.35e+08 6.33e-02  4.45e+07     4s\n"
     ]
    },
    {
     "name": "stdout",
     "output_type": "stream",
     "text": [
      "   4   2.88732691e+11 -5.48163388e+12  3.99e+07 1.37e-11  1.21e+07     4s\n"
     ]
    },
    {
     "name": "stderr",
     "output_type": "stream",
     "text": [
      "INFO:gurobipy:   4   2.88732691e+11 -5.48163388e+12  3.99e+07 1.37e-11  1.21e+07     4s\n"
     ]
    },
    {
     "name": "stdout",
     "output_type": "stream",
     "text": [
      "   5   2.35748468e+11 -2.53994400e+12  3.11e+07 1.28e-11  6.69e+06     4s\n"
     ]
    },
    {
     "name": "stderr",
     "output_type": "stream",
     "text": [
      "INFO:gurobipy:   5   2.35748468e+11 -2.53994400e+12  3.11e+07 1.28e-11  6.69e+06     4s\n"
     ]
    },
    {
     "name": "stdout",
     "output_type": "stream",
     "text": [
      "   6   1.53300928e+11 -1.79262944e+12  2.01e+07 1.01e-11  4.32e+06     4s\n"
     ]
    },
    {
     "name": "stderr",
     "output_type": "stream",
     "text": [
      "INFO:gurobipy:   6   1.53300928e+11 -1.79262944e+12  2.01e+07 1.01e-11  4.32e+06     4s\n"
     ]
    },
    {
     "name": "stdout",
     "output_type": "stream",
     "text": [
      "   7   1.15221933e+11 -1.49089684e+12  1.48e+07 7.34e-12  3.31e+06     4s\n"
     ]
    },
    {
     "name": "stderr",
     "output_type": "stream",
     "text": [
      "INFO:gurobipy:   7   1.15221933e+11 -1.49089684e+12  1.48e+07 7.34e-12  3.31e+06     4s\n"
     ]
    },
    {
     "name": "stdout",
     "output_type": "stream",
     "text": [
      "   8   9.34386446e+10 -1.14042862e+12  1.14e+07 4.61e-12  2.46e+06     4s\n"
     ]
    },
    {
     "name": "stderr",
     "output_type": "stream",
     "text": [
      "INFO:gurobipy:   8   9.34386446e+10 -1.14042862e+12  1.14e+07 4.61e-12  2.46e+06     4s\n"
     ]
    },
    {
     "name": "stdout",
     "output_type": "stream",
     "text": [
      "   9   5.04919013e+10 -3.23663358e+11  3.09e+06 9.21e-12  6.53e+05     4s\n"
     ]
    },
    {
     "name": "stderr",
     "output_type": "stream",
     "text": [
      "INFO:gurobipy:   9   5.04919013e+10 -3.23663358e+11  3.09e+06 9.21e-12  6.53e+05     4s\n"
     ]
    },
    {
     "name": "stdout",
     "output_type": "stream",
     "text": [
      "  10   2.89142338e+10 -7.43584421e+10  3.53e+05 2.85e-12  1.37e+05     5s\n"
     ]
    },
    {
     "name": "stderr",
     "output_type": "stream",
     "text": [
      "INFO:gurobipy:  10   2.89142338e+10 -7.43584421e+10  3.53e+05 2.85e-12  1.37e+05     5s\n"
     ]
    },
    {
     "name": "stdout",
     "output_type": "stream",
     "text": [
      "  11   2.35081235e+10 -2.79279452e+10  1.02e+05 1.94e-12  6.35e+04     5s\n"
     ]
    },
    {
     "name": "stderr",
     "output_type": "stream",
     "text": [
      "INFO:gurobipy:  11   2.35081235e+10 -2.79279452e+10  1.02e+05 1.94e-12  6.35e+04     5s\n"
     ]
    },
    {
     "name": "stdout",
     "output_type": "stream",
     "text": [
      "  12   2.23120720e+10 -1.31000605e+10  7.78e+04 1.94e-12  4.40e+04     5s\n"
     ]
    },
    {
     "name": "stderr",
     "output_type": "stream",
     "text": [
      "INFO:gurobipy:  12   2.23120720e+10 -1.31000605e+10  7.78e+04 1.94e-12  4.40e+04     5s\n"
     ]
    },
    {
     "name": "stdout",
     "output_type": "stream",
     "text": [
      "  13   2.13428280e+10 -4.88525196e+09  6.20e+04 3.25e-06  3.28e+04     5s\n"
     ]
    },
    {
     "name": "stderr",
     "output_type": "stream",
     "text": [
      "INFO:gurobipy:  13   2.13428280e+10 -4.88525196e+09  6.20e+04 3.25e-06  3.28e+04     5s\n"
     ]
    },
    {
     "name": "stdout",
     "output_type": "stream",
     "text": [
      "  14   2.04262926e+10 -5.61120736e+08  4.93e+04 9.89e-06  2.62e+04     5s\n"
     ]
    },
    {
     "name": "stderr",
     "output_type": "stream",
     "text": [
      "INFO:gurobipy:  14   2.04262926e+10 -5.61120736e+08  4.93e+04 9.89e-06  2.62e+04     5s\n"
     ]
    },
    {
     "name": "stdout",
     "output_type": "stream",
     "text": [
      "  15   1.95337508e+10  3.62730575e+09  3.84e+04 1.93e-05  1.99e+04     5s\n"
     ]
    },
    {
     "name": "stderr",
     "output_type": "stream",
     "text": [
      "INFO:gurobipy:  15   1.95337508e+10  3.62730575e+09  3.84e+04 1.93e-05  1.99e+04     5s\n"
     ]
    },
    {
     "name": "stdout",
     "output_type": "stream",
     "text": [
      "  16   1.82809809e+10  6.15528098e+09  2.54e+04 2.95e-05  1.50e+04     5s\n"
     ]
    },
    {
     "name": "stderr",
     "output_type": "stream",
     "text": [
      "INFO:gurobipy:  16   1.82809809e+10  6.15528098e+09  2.54e+04 2.95e-05  1.50e+04     5s\n"
     ]
    },
    {
     "name": "stdout",
     "output_type": "stream",
     "text": [
      "  17   1.75728197e+10  9.99008558e+09  1.93e+04 4.24e-05  9.52e+03     6s\n"
     ]
    },
    {
     "name": "stderr",
     "output_type": "stream",
     "text": [
      "INFO:gurobipy:  17   1.75728197e+10  9.99008558e+09  1.93e+04 4.24e-05  9.52e+03     6s\n"
     ]
    },
    {
     "name": "stdout",
     "output_type": "stream",
     "text": [
      "  18   1.69517989e+10  1.18955499e+10  1.41e+04 4.62e-05  6.41e+03     6s\n"
     ]
    },
    {
     "name": "stderr",
     "output_type": "stream",
     "text": [
      "INFO:gurobipy:  18   1.69517989e+10  1.18955499e+10  1.41e+04 4.62e-05  6.41e+03     6s\n"
     ]
    },
    {
     "name": "stdout",
     "output_type": "stream",
     "text": [
      "  19   1.64127554e+10  1.27571118e+10  9.93e+03 4.92e-05  4.62e+03     6s\n"
     ]
    },
    {
     "name": "stderr",
     "output_type": "stream",
     "text": [
      "INFO:gurobipy:  19   1.64127554e+10  1.27571118e+10  9.93e+03 4.92e-05  4.62e+03     6s\n"
     ]
    },
    {
     "name": "stdout",
     "output_type": "stream",
     "text": [
      "  20   1.61256197e+10  1.32951946e+10  7.78e+03 4.81e-05  3.58e+03     6s\n"
     ]
    },
    {
     "name": "stderr",
     "output_type": "stream",
     "text": [
      "INFO:gurobipy:  20   1.61256197e+10  1.32951946e+10  7.78e+03 4.81e-05  3.58e+03     6s\n"
     ]
    },
    {
     "name": "stdout",
     "output_type": "stream",
     "text": [
      "  21   1.59432537e+10  1.37640943e+10  6.50e+03 4.52e-05  2.78e+03     6s\n"
     ]
    },
    {
     "name": "stderr",
     "output_type": "stream",
     "text": [
      "INFO:gurobipy:  21   1.59432537e+10  1.37640943e+10  6.50e+03 4.52e-05  2.78e+03     6s\n"
     ]
    },
    {
     "name": "stdout",
     "output_type": "stream",
     "text": [
      "  22   1.57434659e+10  1.41821384e+10  5.09e+03 4.00e-05  2.02e+03     6s\n"
     ]
    },
    {
     "name": "stderr",
     "output_type": "stream",
     "text": [
      "INFO:gurobipy:  22   1.57434659e+10  1.41821384e+10  5.09e+03 4.00e-05  2.02e+03     6s\n"
     ]
    },
    {
     "name": "stdout",
     "output_type": "stream",
     "text": [
      "  23   1.54652638e+10  1.45077854e+10  3.18e+03 3.39e-05  1.24e+03     7s\n"
     ]
    },
    {
     "name": "stderr",
     "output_type": "stream",
     "text": [
      "INFO:gurobipy:  23   1.54652638e+10  1.45077854e+10  3.18e+03 3.39e-05  1.24e+03     7s\n"
     ]
    },
    {
     "name": "stdout",
     "output_type": "stream",
     "text": [
      "  24   1.53110917e+10  1.46443559e+10  2.17e+03 2.85e-05  8.59e+02     7s\n"
     ]
    },
    {
     "name": "stderr",
     "output_type": "stream",
     "text": [
      "INFO:gurobipy:  24   1.53110917e+10  1.46443559e+10  2.17e+03 2.85e-05  8.59e+02     7s\n"
     ]
    },
    {
     "name": "stdout",
     "output_type": "stream",
     "text": [
      "  25   1.52188111e+10  1.47538248e+10  1.56e+03 2.26e-05  6.01e+02     7s\n"
     ]
    },
    {
     "name": "stderr",
     "output_type": "stream",
     "text": [
      "INFO:gurobipy:  25   1.52188111e+10  1.47538248e+10  1.56e+03 2.26e-05  6.01e+02     7s\n"
     ]
    },
    {
     "name": "stdout",
     "output_type": "stream",
     "text": [
      "  26   1.51444084e+10  1.47957527e+10  1.06e+03 1.97e-05  4.44e+02     7s\n"
     ]
    },
    {
     "name": "stderr",
     "output_type": "stream",
     "text": [
      "INFO:gurobipy:  26   1.51444084e+10  1.47957527e+10  1.06e+03 1.97e-05  4.44e+02     7s\n"
     ]
    },
    {
     "name": "stdout",
     "output_type": "stream",
     "text": [
      "  27   1.51363375e+10  1.48144093e+10  1.01e+03 1.83e-05  4.12e+02     7s\n"
     ]
    },
    {
     "name": "stderr",
     "output_type": "stream",
     "text": [
      "INFO:gurobipy:  27   1.51363375e+10  1.48144093e+10  1.01e+03 1.83e-05  4.12e+02     7s\n"
     ]
    },
    {
     "name": "stdout",
     "output_type": "stream",
     "text": [
      "  28   1.51175312e+10  1.48389239e+10  8.78e+02 1.63e-05  3.57e+02     7s\n"
     ]
    },
    {
     "name": "stderr",
     "output_type": "stream",
     "text": [
      "INFO:gurobipy:  28   1.51175312e+10  1.48389239e+10  8.78e+02 1.63e-05  3.57e+02     7s\n"
     ]
    },
    {
     "name": "stdout",
     "output_type": "stream",
     "text": [
      "  29   1.50690175e+10  1.48781846e+10  5.54e+02 1.29e-05  2.42e+02     7s\n"
     ]
    },
    {
     "name": "stderr",
     "output_type": "stream",
     "text": [
      "INFO:gurobipy:  29   1.50690175e+10  1.48781846e+10  5.54e+02 1.29e-05  2.42e+02     7s\n"
     ]
    },
    {
     "name": "stdout",
     "output_type": "stream",
     "text": [
      "  30   1.50629108e+10  1.48872217e+10  5.15e+02 1.21e-05  2.23e+02     8s\n"
     ]
    },
    {
     "name": "stderr",
     "output_type": "stream",
     "text": [
      "INFO:gurobipy:  30   1.50629108e+10  1.48872217e+10  5.15e+02 1.21e-05  2.23e+02     8s\n"
     ]
    },
    {
     "name": "stdout",
     "output_type": "stream",
     "text": [
      "  31   1.50415407e+10  1.49291058e+10  3.73e+02 7.82e-06  1.45e+02     8s\n"
     ]
    },
    {
     "name": "stderr",
     "output_type": "stream",
     "text": [
      "INFO:gurobipy:  31   1.50415407e+10  1.49291058e+10  3.73e+02 7.82e-06  1.45e+02     8s\n"
     ]
    },
    {
     "name": "stdout",
     "output_type": "stream",
     "text": [
      "  32   1.50240227e+10  1.49440796e+10  2.59e+02 6.12e-06  1.03e+02     8s\n"
     ]
    },
    {
     "name": "stderr",
     "output_type": "stream",
     "text": [
      "INFO:gurobipy:  32   1.50240227e+10  1.49440796e+10  2.59e+02 6.12e-06  1.03e+02     8s\n"
     ]
    },
    {
     "name": "stdout",
     "output_type": "stream",
     "text": [
      "  33   1.50102903e+10  1.49562997e+10  1.70e+02 4.56e-06  6.91e+01     8s\n"
     ]
    },
    {
     "name": "stderr",
     "output_type": "stream",
     "text": [
      "INFO:gurobipy:  33   1.50102903e+10  1.49562997e+10  1.70e+02 4.56e-06  6.91e+01     8s\n"
     ]
    },
    {
     "name": "stdout",
     "output_type": "stream",
     "text": [
      "  34   1.50033722e+10  1.49660488e+10  1.27e+02 3.18e-06  4.83e+01     8s\n"
     ]
    },
    {
     "name": "stderr",
     "output_type": "stream",
     "text": [
      "INFO:gurobipy:  34   1.50033722e+10  1.49660488e+10  1.27e+02 3.18e-06  4.83e+01     8s\n"
     ]
    },
    {
     "name": "stdout",
     "output_type": "stream",
     "text": [
      "  35   1.49980880e+10  1.49708932e+10  9.46e+01 2.43e-06  3.54e+01     8s\n"
     ]
    },
    {
     "name": "stderr",
     "output_type": "stream",
     "text": [
      "INFO:gurobipy:  35   1.49980880e+10  1.49708932e+10  9.46e+01 2.43e-06  3.54e+01     8s\n"
     ]
    },
    {
     "name": "stdout",
     "output_type": "stream",
     "text": [
      "  36   1.49942348e+10  1.49721405e+10  7.08e+01 2.23e-06  2.83e+01     9s\n"
     ]
    },
    {
     "name": "stderr",
     "output_type": "stream",
     "text": [
      "INFO:gurobipy:  36   1.49942348e+10  1.49721405e+10  7.08e+01 2.23e-06  2.83e+01     9s\n"
     ]
    },
    {
     "name": "stdout",
     "output_type": "stream",
     "text": [
      "  37   1.49918318e+10  1.49752957e+10  5.58e+01 1.64e-06  2.14e+01     9s\n"
     ]
    },
    {
     "name": "stderr",
     "output_type": "stream",
     "text": [
      "INFO:gurobipy:  37   1.49918318e+10  1.49752957e+10  5.58e+01 1.64e-06  2.14e+01     9s\n"
     ]
    },
    {
     "name": "stdout",
     "output_type": "stream",
     "text": [
      "  38   1.49877315e+10  1.49778026e+10  3.09e+01 1.19e-06  1.27e+01     9s\n"
     ]
    },
    {
     "name": "stderr",
     "output_type": "stream",
     "text": [
      "INFO:gurobipy:  38   1.49877315e+10  1.49778026e+10  3.09e+01 1.19e-06  1.27e+01     9s\n"
     ]
    },
    {
     "name": "stdout",
     "output_type": "stream",
     "text": [
      "  39   1.49861487e+10  1.49793408e+10  2.14e+01 9.00e-07  8.69e+00     9s\n"
     ]
    },
    {
     "name": "stderr",
     "output_type": "stream",
     "text": [
      "INFO:gurobipy:  39   1.49861487e+10  1.49793408e+10  2.14e+01 9.00e-07  8.69e+00     9s\n"
     ]
    },
    {
     "name": "stdout",
     "output_type": "stream",
     "text": [
      "  40   1.49851841e+10  1.49800945e+10  1.57e+01 7.67e-07  6.45e+00     9s\n"
     ]
    },
    {
     "name": "stderr",
     "output_type": "stream",
     "text": [
      "INFO:gurobipy:  40   1.49851841e+10  1.49800945e+10  1.57e+01 7.67e-07  6.45e+00     9s\n"
     ]
    },
    {
     "name": "stdout",
     "output_type": "stream",
     "text": [
      "  41   1.49846383e+10  1.49808885e+10  1.25e+01 6.58e-07  4.80e+00     9s\n"
     ]
    },
    {
     "name": "stderr",
     "output_type": "stream",
     "text": [
      "INFO:gurobipy:  41   1.49846383e+10  1.49808885e+10  1.25e+01 6.58e-07  4.80e+00     9s\n"
     ]
    },
    {
     "name": "stdout",
     "output_type": "stream",
     "text": [
      "  42   1.49838720e+10  1.49813297e+10  7.96e+00 6.23e-07  3.17e+00     9s\n"
     ]
    },
    {
     "name": "stderr",
     "output_type": "stream",
     "text": [
      "INFO:gurobipy:  42   1.49838720e+10  1.49813297e+10  7.96e+00 6.23e-07  3.17e+00     9s\n"
     ]
    },
    {
     "name": "stdout",
     "output_type": "stream",
     "text": [
      "  43   1.49834249e+10  1.49815054e+10  5.37e+00 5.91e-07  2.31e+00    10s\n"
     ]
    },
    {
     "name": "stderr",
     "output_type": "stream",
     "text": [
      "INFO:gurobipy:  43   1.49834249e+10  1.49815054e+10  5.37e+00 5.91e-07  2.31e+00    10s\n"
     ]
    },
    {
     "name": "stdout",
     "output_type": "stream",
     "text": [
      "  44   1.49832254e+10  1.49817181e+10  4.21e+00 5.26e-07  1.79e+00    10s\n"
     ]
    },
    {
     "name": "stderr",
     "output_type": "stream",
     "text": [
      "INFO:gurobipy:  44   1.49832254e+10  1.49817181e+10  4.21e+00 5.26e-07  1.79e+00    10s\n"
     ]
    },
    {
     "name": "stdout",
     "output_type": "stream",
     "text": [
      "  45   1.49830343e+10  1.49819071e+10  3.11e+00 4.72e-07  1.32e+00    10s\n"
     ]
    },
    {
     "name": "stderr",
     "output_type": "stream",
     "text": [
      "INFO:gurobipy:  45   1.49830343e+10  1.49819071e+10  3.11e+00 4.72e-07  1.32e+00    10s\n"
     ]
    },
    {
     "name": "stdout",
     "output_type": "stream",
     "text": [
      "  46   1.49829688e+10  1.49819645e+10  2.73e+00 4.49e-07  1.16e+00    10s\n"
     ]
    },
    {
     "name": "stderr",
     "output_type": "stream",
     "text": [
      "INFO:gurobipy:  46   1.49829688e+10  1.49819645e+10  2.73e+00 4.49e-07  1.16e+00    10s\n"
     ]
    },
    {
     "name": "stdout",
     "output_type": "stream",
     "text": [
      "  47   1.49829277e+10  1.49819860e+10  2.51e+00 4.39e-07  1.08e+00    10s\n"
     ]
    },
    {
     "name": "stderr",
     "output_type": "stream",
     "text": [
      "INFO:gurobipy:  47   1.49829277e+10  1.49819860e+10  2.51e+00 4.39e-07  1.08e+00    10s\n"
     ]
    },
    {
     "name": "stdout",
     "output_type": "stream",
     "text": [
      "  48   1.49827542e+10  1.49821579e+10  1.52e+00 3.54e-07  6.54e-01    10s\n"
     ]
    },
    {
     "name": "stderr",
     "output_type": "stream",
     "text": [
      "INFO:gurobipy:  48   1.49827542e+10  1.49821579e+10  1.52e+00 3.54e-07  6.54e-01    10s\n"
     ]
    },
    {
     "name": "stdout",
     "output_type": "stream",
     "text": [
      "  49   1.49826000e+10  1.49822826e+10  6.79e-01 2.54e-07  3.05e-01    11s\n"
     ]
    },
    {
     "name": "stderr",
     "output_type": "stream",
     "text": [
      "INFO:gurobipy:  49   1.49826000e+10  1.49822826e+10  6.79e-01 2.54e-07  3.05e-01    11s\n"
     ]
    },
    {
     "name": "stdout",
     "output_type": "stream",
     "text": [
      "  50   1.49825165e+10  1.49823552e+10  2.37e-01 1.61e-07  1.21e-01    11s\n"
     ]
    },
    {
     "name": "stderr",
     "output_type": "stream",
     "text": [
      "INFO:gurobipy:  50   1.49825165e+10  1.49823552e+10  2.37e-01 1.61e-07  1.21e-01    11s\n"
     ]
    },
    {
     "name": "stdout",
     "output_type": "stream",
     "text": [
      "  51   1.49824955e+10  1.49823769e+10  1.29e-01 1.34e-07  7.91e-02    11s\n"
     ]
    },
    {
     "name": "stderr",
     "output_type": "stream",
     "text": [
      "INFO:gurobipy:  51   1.49824955e+10  1.49823769e+10  1.29e-01 1.34e-07  7.91e-02    11s\n"
     ]
    },
    {
     "name": "stdout",
     "output_type": "stream",
     "text": [
      "  52   1.49824871e+10  1.49824120e+10  8.68e-02 8.61e-08  5.04e-02    11s\n"
     ]
    },
    {
     "name": "stderr",
     "output_type": "stream",
     "text": [
      "INFO:gurobipy:  52   1.49824871e+10  1.49824120e+10  8.68e-02 8.61e-08  5.04e-02    11s\n"
     ]
    },
    {
     "name": "stdout",
     "output_type": "stream",
     "text": [
      "  53   1.49824786e+10  1.49824394e+10  4.47e-02 4.70e-08  2.57e-02    11s\n"
     ]
    },
    {
     "name": "stderr",
     "output_type": "stream",
     "text": [
      "INFO:gurobipy:  53   1.49824786e+10  1.49824394e+10  4.47e-02 4.70e-08  2.57e-02    11s\n"
     ]
    },
    {
     "name": "stdout",
     "output_type": "stream",
     "text": [
      "  54   1.49824727e+10  1.49824526e+10  1.70e-02 2.70e-08  1.17e-02    11s\n"
     ]
    },
    {
     "name": "stderr",
     "output_type": "stream",
     "text": [
      "INFO:gurobipy:  54   1.49824727e+10  1.49824526e+10  1.70e-02 2.70e-08  1.17e-02    11s\n"
     ]
    },
    {
     "name": "stdout",
     "output_type": "stream",
     "text": [
      "  55   1.49824710e+10  1.49824604e+10  9.36e-03 1.47e-08  6.25e-03    12s\n"
     ]
    },
    {
     "name": "stderr",
     "output_type": "stream",
     "text": [
      "INFO:gurobipy:  55   1.49824710e+10  1.49824604e+10  9.36e-03 1.47e-08  6.25e-03    12s\n"
     ]
    },
    {
     "name": "stdout",
     "output_type": "stream",
     "text": [
      "  56   1.49824695e+10  1.49824658e+10  2.58e-03 1.08e-08  2.04e-03    12s\n"
     ]
    },
    {
     "name": "stderr",
     "output_type": "stream",
     "text": [
      "INFO:gurobipy:  56   1.49824695e+10  1.49824658e+10  2.58e-03 1.08e-08  2.04e-03    12s\n"
     ]
    },
    {
     "name": "stdout",
     "output_type": "stream",
     "text": [
      "  57   1.49824691e+10  1.49824676e+10  1.10e-03 1.27e-08  8.71e-04    12s\n"
     ]
    },
    {
     "name": "stderr",
     "output_type": "stream",
     "text": [
      "INFO:gurobipy:  57   1.49824691e+10  1.49824676e+10  1.10e-03 1.27e-08  8.71e-04    12s\n"
     ]
    },
    {
     "name": "stdout",
     "output_type": "stream",
     "text": [
      "  58   1.49824689e+10  1.49824684e+10  2.99e-04 1.27e-08  2.86e-04    12s\n"
     ]
    },
    {
     "name": "stderr",
     "output_type": "stream",
     "text": [
      "INFO:gurobipy:  58   1.49824689e+10  1.49824684e+10  2.99e-04 1.27e-08  2.86e-04    12s\n"
     ]
    },
    {
     "name": "stdout",
     "output_type": "stream",
     "text": [
      "  59   1.49824689e+10  1.49824687e+10  6.77e-05 6.59e-09  8.82e-05    12s\n"
     ]
    },
    {
     "name": "stderr",
     "output_type": "stream",
     "text": [
      "INFO:gurobipy:  59   1.49824689e+10  1.49824687e+10  6.77e-05 6.59e-09  8.82e-05    12s\n"
     ]
    },
    {
     "name": "stdout",
     "output_type": "stream",
     "text": [
      "  60   1.49824689e+10  1.49824688e+10  3.75e-05 1.56e-09  2.56e-05    12s\n"
     ]
    },
    {
     "name": "stderr",
     "output_type": "stream",
     "text": [
      "INFO:gurobipy:  60   1.49824689e+10  1.49824688e+10  3.75e-05 1.56e-09  2.56e-05    12s\n"
     ]
    },
    {
     "name": "stdout",
     "output_type": "stream",
     "text": [
      "  61   1.49824688e+10  1.49824688e+10  6.85e-07 6.13e-10  2.76e-06    12s\n"
     ]
    },
    {
     "name": "stderr",
     "output_type": "stream",
     "text": [
      "INFO:gurobipy:  61   1.49824688e+10  1.49824688e+10  6.85e-07 6.13e-10  2.76e-06    12s\n"
     ]
    },
    {
     "name": "stdout",
     "output_type": "stream",
     "text": [
      "  62   1.49824688e+10  1.49824688e+10  1.46e-06 2.10e-10  4.05e-07    12s\n"
     ]
    },
    {
     "name": "stderr",
     "output_type": "stream",
     "text": [
      "INFO:gurobipy:  62   1.49824688e+10  1.49824688e+10  1.46e-06 2.10e-10  4.05e-07    12s\n"
     ]
    },
    {
     "name": "stdout",
     "output_type": "stream",
     "text": [
      "  63   1.49824688e+10  1.49824688e+10  9.24e-07 2.21e-10  7.31e-08    13s\n"
     ]
    },
    {
     "name": "stderr",
     "output_type": "stream",
     "text": [
      "INFO:gurobipy:  63   1.49824688e+10  1.49824688e+10  9.24e-07 2.21e-10  7.31e-08    13s\n"
     ]
    },
    {
     "name": "stdout",
     "output_type": "stream",
     "text": [
      "  64   1.49824688e+10  1.49824688e+10  8.05e-07 2.22e-10  1.48e-08    13s\n"
     ]
    },
    {
     "name": "stderr",
     "output_type": "stream",
     "text": [
      "INFO:gurobipy:  64   1.49824688e+10  1.49824688e+10  8.05e-07 2.22e-10  1.48e-08    13s\n"
     ]
    },
    {
     "name": "stdout",
     "output_type": "stream",
     "text": [
      "  65   1.49824688e+10  1.49824688e+10  9.83e-07 2.21e-10  3.36e-09    13s\n"
     ]
    },
    {
     "name": "stderr",
     "output_type": "stream",
     "text": [
      "INFO:gurobipy:  65   1.49824688e+10  1.49824688e+10  9.83e-07 2.21e-10  3.36e-09    13s\n"
     ]
    },
    {
     "name": "stdout",
     "output_type": "stream",
     "text": [
      "\n"
     ]
    },
    {
     "name": "stderr",
     "output_type": "stream",
     "text": [
      "INFO:gurobipy:\n"
     ]
    },
    {
     "name": "stdout",
     "output_type": "stream",
     "text": [
      "Barrier solved model in 65 iterations and 12.87 seconds (8.88 work units)\n"
     ]
    },
    {
     "name": "stderr",
     "output_type": "stream",
     "text": [
      "INFO:gurobipy:Barrier solved model in 65 iterations and 12.87 seconds (8.88 work units)\n"
     ]
    },
    {
     "name": "stdout",
     "output_type": "stream",
     "text": [
      "Optimal objective 1.49824688e+10\n"
     ]
    },
    {
     "name": "stderr",
     "output_type": "stream",
     "text": [
      "INFO:gurobipy:Optimal objective 1.49824688e+10\n"
     ]
    },
    {
     "name": "stdout",
     "output_type": "stream",
     "text": [
      "\n"
     ]
    },
    {
     "name": "stderr",
     "output_type": "stream",
     "text": [
      "INFO:gurobipy:\n"
     ]
    },
    {
     "name": "stdout",
     "output_type": "stream",
     "text": [
      "Crossover log...\n"
     ]
    },
    {
     "name": "stderr",
     "output_type": "stream",
     "text": [
      "INFO:gurobipy:Crossover log...\n"
     ]
    },
    {
     "name": "stdout",
     "output_type": "stream",
     "text": [
      "\n"
     ]
    },
    {
     "name": "stderr",
     "output_type": "stream",
     "text": [
      "INFO:gurobipy:\n"
     ]
    },
    {
     "name": "stdout",
     "output_type": "stream",
     "text": [
      "    9865 DPushes remaining with DInf 0.0000000e+00                13s\n"
     ]
    },
    {
     "name": "stderr",
     "output_type": "stream",
     "text": [
      "INFO:gurobipy:    9865 DPushes remaining with DInf 0.0000000e+00                13s\n"
     ]
    },
    {
     "name": "stdout",
     "output_type": "stream",
     "text": [
      "       0 DPushes remaining with DInf 0.0000000e+00                13s\n"
     ]
    },
    {
     "name": "stderr",
     "output_type": "stream",
     "text": [
      "INFO:gurobipy:       0 DPushes remaining with DInf 0.0000000e+00                13s\n"
     ]
    },
    {
     "name": "stdout",
     "output_type": "stream",
     "text": [
      "Warning: Markowitz tolerance tightened to 0.5\n"
     ]
    },
    {
     "name": "stderr",
     "output_type": "stream",
     "text": [
      "INFO:gurobipy:Warning: Markowitz tolerance tightened to 0.5\n"
     ]
    },
    {
     "name": "stdout",
     "output_type": "stream",
     "text": [
      "\n"
     ]
    },
    {
     "name": "stderr",
     "output_type": "stream",
     "text": [
      "INFO:gurobipy:\n"
     ]
    },
    {
     "name": "stdout",
     "output_type": "stream",
     "text": [
      "   25816 PPushes remaining with PInf 1.5543499e-03                13s\n"
     ]
    },
    {
     "name": "stderr",
     "output_type": "stream",
     "text": [
      "INFO:gurobipy:   25816 PPushes remaining with PInf 1.5543499e-03                13s\n"
     ]
    },
    {
     "name": "stdout",
     "output_type": "stream",
     "text": [
      "       0 PPushes remaining with PInf 0.0000000e+00                14s\n"
     ]
    },
    {
     "name": "stderr",
     "output_type": "stream",
     "text": [
      "INFO:gurobipy:       0 PPushes remaining with PInf 0.0000000e+00                14s\n"
     ]
    },
    {
     "name": "stdout",
     "output_type": "stream",
     "text": [
      "\n"
     ]
    },
    {
     "name": "stderr",
     "output_type": "stream",
     "text": [
      "INFO:gurobipy:\n"
     ]
    },
    {
     "name": "stdout",
     "output_type": "stream",
     "text": [
      "  Push phase complete: Pinf 0.0000000e+00, Dinf 1.9599590e-04     14s\n"
     ]
    },
    {
     "name": "stderr",
     "output_type": "stream",
     "text": [
      "INFO:gurobipy:  Push phase complete: Pinf 0.0000000e+00, Dinf 1.9599590e-04     14s\n"
     ]
    },
    {
     "name": "stdout",
     "output_type": "stream",
     "text": [
      "\n"
     ]
    },
    {
     "name": "stderr",
     "output_type": "stream",
     "text": [
      "INFO:gurobipy:\n"
     ]
    },
    {
     "name": "stdout",
     "output_type": "stream",
     "text": [
      "Iteration    Objective       Primal Inf.    Dual Inf.      Time\n"
     ]
    },
    {
     "name": "stderr",
     "output_type": "stream",
     "text": [
      "INFO:gurobipy:Iteration    Objective       Primal Inf.    Dual Inf.      Time\n"
     ]
    },
    {
     "name": "stdout",
     "output_type": "stream",
     "text": [
      "   35684    1.4982469e+10   0.000000e+00   1.959958e-04     14s\n"
     ]
    },
    {
     "name": "stderr",
     "output_type": "stream",
     "text": [
      "INFO:gurobipy:   35684    1.4982469e+10   0.000000e+00   1.959958e-04     14s\n"
     ]
    },
    {
     "name": "stdout",
     "output_type": "stream",
     "text": [
      "\n"
     ]
    },
    {
     "name": "stderr",
     "output_type": "stream",
     "text": [
      "INFO:gurobipy:\n"
     ]
    },
    {
     "name": "stdout",
     "output_type": "stream",
     "text": [
      "Solved with barrier\n"
     ]
    },
    {
     "name": "stderr",
     "output_type": "stream",
     "text": [
      "INFO:gurobipy:Solved with barrier\n"
     ]
    },
    {
     "name": "stdout",
     "output_type": "stream",
     "text": [
      "   35694    1.4982469e+10   0.000000e+00   0.000000e+00     15s\n"
     ]
    },
    {
     "name": "stderr",
     "output_type": "stream",
     "text": [
      "INFO:gurobipy:   35694    1.4982469e+10   0.000000e+00   0.000000e+00     15s\n"
     ]
    },
    {
     "name": "stdout",
     "output_type": "stream",
     "text": [
      "\n"
     ]
    },
    {
     "name": "stderr",
     "output_type": "stream",
     "text": [
      "INFO:gurobipy:\n"
     ]
    },
    {
     "name": "stdout",
     "output_type": "stream",
     "text": [
      "Solved in 35694 iterations and 15.49 seconds (9.86 work units)\n"
     ]
    },
    {
     "name": "stderr",
     "output_type": "stream",
     "text": [
      "INFO:gurobipy:Solved in 35694 iterations and 15.49 seconds (9.86 work units)\n"
     ]
    },
    {
     "name": "stdout",
     "output_type": "stream",
     "text": [
      "Optimal objective  1.498246885e+10\n"
     ]
    },
    {
     "name": "stderr",
     "output_type": "stream",
     "text": [
      "INFO:gurobipy:Optimal objective  1.498246885e+10\n",
      "INFO:linopy.constants: Optimization successful: \n",
      "Status: ok\n",
      "Termination condition: optimal\n",
      "Solution: 712467 primals, 1442481 duals\n",
      "Objective: 1.50e+10\n",
      "Solver model: available\n",
      "Solver message: 2\n",
      "\n",
      "INFO:pypsa.optimization.optimize:The shadow-prices of the constraints Generator-fix-p-lower, Generator-fix-p-upper, Link-fix-p-lower, Link-fix-p-upper, Store-fix-e-lower, Store-fix-e-upper, StorageUnit-fix-p_dispatch-lower, StorageUnit-fix-p_dispatch-upper, StorageUnit-fix-p_store-lower, StorageUnit-fix-p_store-upper, StorageUnit-fix-state_of_charge-lower, StorageUnit-fix-state_of_charge-upper, StorageUnit-energy_balance, Store-energy_balance were not assigned to the network.\n"
     ]
    }
   ],
   "source": [
    "m.optimize.optimize_with_rolling_horizon(\n",
    "    solver_name=\"gurobi\",\n",
    "    horizon=3000,\n",
    "    overlap=0,\n",
    ")"
   ]
  },
  {
   "cell_type": "code",
   "execution_count": 73,
   "metadata": {},
   "outputs": [
    {
     "data": {
      "text/plain": [
       "DE                                    0.000000\n",
       "DE gas                               25.635258\n",
       "DE gas primary                       24.600876\n",
       "DE industry methanol                 25.259130\n",
       "DE methanol                          25.252091\n",
       "DE oil                               55.750662\n",
       "DE oil primary                       52.921214\n",
       "DE renewable gas                     25.625312\n",
       "DE renewable oil                     55.740498\n",
       "DE shipping methanol                 25.259709\n",
       "DE0 0                                16.988506\n",
       "DE0 0 EV battery                     17.790483\n",
       "DE0 0 H2                             19.219419\n",
       "DE0 0 agriculture machinery oil      55.757887\n",
       "DE0 0 battery                        17.146708\n",
       "DE0 0 coal for industry               9.570712\n",
       "DE0 0 gas for industry               28.516242\n",
       "DE0 0 kerosene for aviation          55.761039\n",
       "DE0 0 land transport oil             55.758369\n",
       "DE0 0 naphtha for industry           55.763877\n",
       "DE0 0 rural heat                      9.947872\n",
       "DE0 0 rural water tanks               9.824007\n",
       "DE0 0 shipping oil                   55.757478\n",
       "DE0 0 urban central heat              7.495747\n",
       "DE0 0 urban central water tanks       7.274268\n",
       "DE0 0 urban decentral heat           11.723053\n",
       "DE0 0 urban decentral water tanks    11.476183\n",
       "EU                                    0.000000\n",
       "EU biogas                            62.445190\n",
       "EU coal                               9.564239\n",
       "EU gas                               25.600936\n",
       "EU gas primary                       24.566135\n",
       "EU industry methanol                  0.000000\n",
       "EU lignite                            0.009454\n",
       "EU methanol                          25.232679\n",
       "EU oil                               55.742512\n",
       "EU oil primary                       52.913982\n",
       "EU renewable gas                     25.614986\n",
       "EU renewable oil                     55.731648\n",
       "EU shipping methanol                  0.000000\n",
       "EU solid biomass                     13.658586\n",
       "EU uranium                            0.009846\n",
       "co2 atmosphere                        0.010962\n",
       "co2 sequestered                      -0.090038\n",
       "co2 stored                           -0.099816\n",
       "process emissions                    -0.127491\n",
       "solid biomass for industry           15.241411\n",
       "dtype: float64"
      ]
     },
     "execution_count": 73,
     "metadata": {},
     "output_type": "execute_result"
    }
   ],
   "source": [
    "m.buses_t.marginal_price.mean()"
   ]
  },
  {
   "cell_type": "code",
   "execution_count": 75,
   "metadata": {},
   "outputs": [
    {
     "name": "stderr",
     "output_type": "stream",
     "text": [
      "INFO:pypsa.io:Imported network base_s_1__none_2045_lt.nc has buses, carriers, generators, global_constraints, links, loads, storage_units, stores\n",
      "WARNING:pypsa.components:The following buses have no attached components, which can break the lopf:\n",
      "{'DE', 'EU'}\n"
     ]
    },
    {
     "data": {
      "text/plain": [
       "Linopy LP model\n",
       "===============\n",
       "\n",
       "Variables:\n",
       "----------\n",
       " * Generator-p_nom (Generator-ext)\n",
       " * Link-p_nom (Link-ext)\n",
       " * Store-e_nom (Store-ext)\n",
       " * Generator-p (snapshot, Generator)\n",
       " * Link-p (snapshot, Link)\n",
       " * Store-e (snapshot, Store)\n",
       " * StorageUnit-p_dispatch (snapshot, StorageUnit)\n",
       " * StorageUnit-p_store (snapshot, StorageUnit)\n",
       " * StorageUnit-state_of_charge (snapshot, StorageUnit)\n",
       " * StorageUnit-spill (snapshot, StorageUnit)\n",
       " * Store-p (snapshot, Store)\n",
       "\n",
       "Constraints:\n",
       "------------\n",
       " * Generator-ext-p_nom-lower (Generator-ext)\n",
       " * Generator-ext-p_nom-upper (Generator-ext)\n",
       " * Link-ext-p_nom-lower (Link-ext)\n",
       " * Link-ext-p_nom-upper (Link-ext)\n",
       " * Store-ext-e_nom-lower (Store-ext)\n",
       " * Store-ext-e_nom-upper (Store-ext)\n",
       " * Generator-fix-p-lower (snapshot, Generator-fix)\n",
       " * Generator-fix-p-upper (snapshot, Generator-fix)\n",
       " * Generator-ext-p-lower (snapshot, Generator-ext)\n",
       " * Generator-ext-p-upper (snapshot, Generator-ext)\n",
       " * Link-fix-p-lower (snapshot, Link-fix)\n",
       " * Link-fix-p-upper (snapshot, Link-fix)\n",
       " * Link-ext-p-lower (snapshot, Link-ext)\n",
       " * Link-ext-p-upper (snapshot, Link-ext)\n",
       " * Store-fix-e-lower (snapshot, Store-fix)\n",
       " * Store-fix-e-upper (snapshot, Store-fix)\n",
       " * Store-ext-e-lower (snapshot, Store-ext)\n",
       " * Store-ext-e-upper (snapshot, Store-ext)\n",
       " * StorageUnit-fix-p_dispatch-lower (snapshot, StorageUnit-fix)\n",
       " * StorageUnit-fix-p_dispatch-upper (snapshot, StorageUnit-fix)\n",
       " * StorageUnit-fix-p_store-lower (snapshot, StorageUnit-fix)\n",
       " * StorageUnit-fix-p_store-upper (snapshot, StorageUnit-fix)\n",
       " * StorageUnit-fix-state_of_charge-lower (snapshot, StorageUnit-fix)\n",
       " * StorageUnit-fix-state_of_charge-upper (snapshot, StorageUnit-fix)\n",
       " * Bus-nodal_balance (Bus, snapshot)\n",
       " * Bus-meshed-nodal_balance (Bus-meshed, snapshot)\n",
       " * StorageUnit-energy_balance (snapshot, StorageUnit)\n",
       " * Store-energy_balance (snapshot, Store)\n",
       " * GlobalConstraint-co2_sequestration_limit (snapshot)\n",
       "\n",
       "Status:\n",
       "-------\n",
       "initialized"
      ]
     },
     "execution_count": 75,
     "metadata": {},
     "output_type": "execute_result"
    }
   ],
   "source": [
    "n_without_fixation = pypsa.Network('base_s_1__none_2045_lt.nc')\n",
    "\n",
    "n_without_fixation.optimize.create_model()\n"
   ]
  },
  {
   "cell_type": "code",
   "execution_count": 76,
   "metadata": {},
   "outputs": [
    {
     "name": "stderr",
     "output_type": "stream",
     "text": [
      "INFO:linopy.model: Solve problem using Gurobi solver\n"
     ]
    },
    {
     "name": "stdout",
     "output_type": "stream",
     "text": [
      "Set parameter Username\n"
     ]
    },
    {
     "name": "stderr",
     "output_type": "stream",
     "text": [
      "INFO:gurobipy:Set parameter Username\n"
     ]
    },
    {
     "name": "stdout",
     "output_type": "stream",
     "text": [
      "Set parameter LicenseID to value 2637156\n"
     ]
    },
    {
     "name": "stderr",
     "output_type": "stream",
     "text": [
      "INFO:gurobipy:Set parameter LicenseID to value 2637156\n"
     ]
    },
    {
     "name": "stdout",
     "output_type": "stream",
     "text": [
      "Academic license - for non-commercial use only - expires 2026-03-16\n"
     ]
    },
    {
     "name": "stderr",
     "output_type": "stream",
     "text": [
      "INFO:gurobipy:Academic license - for non-commercial use only - expires 2026-03-16\n",
      "INFO:linopy.io:Writing objective.\n",
      "Writing constraints.: 100%|\u001b[38;2;128;191;255m██████████\u001b[0m| 29/29 [00:08<00:00,  3.37it/s]\n",
      "Writing continuous variables.: 100%|\u001b[38;2;128;191;255m██████████\u001b[0m| 11/11 [00:01<00:00,  7.06it/s]\n",
      "INFO:linopy.io: Writing time: 11.3s\n"
     ]
    },
    {
     "name": "stdout",
     "output_type": "stream",
     "text": [
      "Read LP format model from file /private/var/folders/1l/8dfp16zs2w581ykzgwkyg8nw0000gn/T/linopy-problem-3ibdcw2e.lp\n"
     ]
    },
    {
     "name": "stderr",
     "output_type": "stream",
     "text": [
      "INFO:gurobipy:Read LP format model from file /private/var/folders/1l/8dfp16zs2w581ykzgwkyg8nw0000gn/T/linopy-problem-3ibdcw2e.lp\n"
     ]
    },
    {
     "name": "stdout",
     "output_type": "stream",
     "text": [
      "Reading time = 3.28 seconds\n"
     ]
    },
    {
     "name": "stderr",
     "output_type": "stream",
     "text": [
      "INFO:gurobipy:Reading time = 3.28 seconds\n"
     ]
    },
    {
     "name": "stdout",
     "output_type": "stream",
     "text": [
      "obj: 1442568 rows, 712548 columns, 2990256 nonzeros\n"
     ]
    },
    {
     "name": "stderr",
     "output_type": "stream",
     "text": [
      "INFO:gurobipy:obj: 1442568 rows, 712548 columns, 2990256 nonzeros\n"
     ]
    },
    {
     "name": "stdout",
     "output_type": "stream",
     "text": [
      "Gurobi Optimizer version 11.0.2 build v11.0.2rc0 (mac64[x86] - Darwin 24.4.0 24E263)\n"
     ]
    },
    {
     "name": "stderr",
     "output_type": "stream",
     "text": [
      "INFO:gurobipy:Gurobi Optimizer version 11.0.2 build v11.0.2rc0 (mac64[x86] - Darwin 24.4.0 24E263)\n"
     ]
    },
    {
     "name": "stdout",
     "output_type": "stream",
     "text": [
      "\n"
     ]
    },
    {
     "name": "stderr",
     "output_type": "stream",
     "text": [
      "INFO:gurobipy:\n"
     ]
    },
    {
     "name": "stdout",
     "output_type": "stream",
     "text": [
      "CPU model: Intel(R) Core(TM) i5-8257U CPU @ 1.40GHz\n"
     ]
    },
    {
     "name": "stderr",
     "output_type": "stream",
     "text": [
      "INFO:gurobipy:CPU model: Intel(R) Core(TM) i5-8257U CPU @ 1.40GHz\n"
     ]
    },
    {
     "name": "stdout",
     "output_type": "stream",
     "text": [
      "Thread count: 4 physical cores, 8 logical processors, using up to 8 threads\n"
     ]
    },
    {
     "name": "stderr",
     "output_type": "stream",
     "text": [
      "INFO:gurobipy:Thread count: 4 physical cores, 8 logical processors, using up to 8 threads\n"
     ]
    },
    {
     "name": "stdout",
     "output_type": "stream",
     "text": [
      "\n"
     ]
    },
    {
     "name": "stderr",
     "output_type": "stream",
     "text": [
      "INFO:gurobipy:\n"
     ]
    },
    {
     "name": "stdout",
     "output_type": "stream",
     "text": [
      "Optimize a model with 1442568 rows, 712548 columns and 2990256 nonzeros\n"
     ]
    },
    {
     "name": "stderr",
     "output_type": "stream",
     "text": [
      "INFO:gurobipy:Optimize a model with 1442568 rows, 712548 columns and 2990256 nonzeros\n"
     ]
    },
    {
     "name": "stdout",
     "output_type": "stream",
     "text": [
      "Model fingerprint: 0x098bbcae\n"
     ]
    },
    {
     "name": "stderr",
     "output_type": "stream",
     "text": [
      "INFO:gurobipy:Model fingerprint: 0x098bbcae\n"
     ]
    },
    {
     "name": "stdout",
     "output_type": "stream",
     "text": [
      "Coefficient statistics:\n"
     ]
    },
    {
     "name": "stderr",
     "output_type": "stream",
     "text": [
      "INFO:gurobipy:Coefficient statistics:\n"
     ]
    },
    {
     "name": "stdout",
     "output_type": "stream",
     "text": [
      "  Matrix range     [8e-03, 5e+00]\n"
     ]
    },
    {
     "name": "stderr",
     "output_type": "stream",
     "text": [
      "INFO:gurobipy:  Matrix range     [8e-03, 5e+00]\n"
     ]
    },
    {
     "name": "stdout",
     "output_type": "stream",
     "text": [
      "  Objective range  [3e-02, 1e+06]\n"
     ]
    },
    {
     "name": "stderr",
     "output_type": "stream",
     "text": [
      "INFO:gurobipy:  Objective range  [3e-02, 1e+06]\n"
     ]
    },
    {
     "name": "stdout",
     "output_type": "stream",
     "text": [
      "  Bounds range     [2e+01, 7e+02]\n"
     ]
    },
    {
     "name": "stderr",
     "output_type": "stream",
     "text": [
      "INFO:gurobipy:  Bounds range     [2e+01, 7e+02]\n"
     ]
    },
    {
     "name": "stdout",
     "output_type": "stream",
     "text": [
      "  RHS range        [3e-01, 1e+09]\n"
     ]
    },
    {
     "name": "stderr",
     "output_type": "stream",
     "text": [
      "INFO:gurobipy:  RHS range        [3e-01, 1e+09]\n"
     ]
    },
    {
     "name": "stdout",
     "output_type": "stream",
     "text": [
      "Presolve removed 1232238 rows and 223141 columns\n"
     ]
    },
    {
     "name": "stderr",
     "output_type": "stream",
     "text": [
      "INFO:gurobipy:Presolve removed 1232238 rows and 223141 columns\n"
     ]
    },
    {
     "name": "stdout",
     "output_type": "stream",
     "text": [
      "Presolve time: 2.88s\n"
     ]
    },
    {
     "name": "stderr",
     "output_type": "stream",
     "text": [
      "INFO:gurobipy:Presolve time: 2.88s\n"
     ]
    },
    {
     "name": "stdout",
     "output_type": "stream",
     "text": [
      "Presolved: 210330 rows, 489407 columns, 1295492 nonzeros\n"
     ]
    },
    {
     "name": "stderr",
     "output_type": "stream",
     "text": [
      "INFO:gurobipy:Presolved: 210330 rows, 489407 columns, 1295492 nonzeros\n"
     ]
    },
    {
     "name": "stdout",
     "output_type": "stream",
     "text": [
      "\n"
     ]
    },
    {
     "name": "stderr",
     "output_type": "stream",
     "text": [
      "INFO:gurobipy:\n"
     ]
    },
    {
     "name": "stdout",
     "output_type": "stream",
     "text": [
      "Concurrent LP optimizer: dual simplex and barrier\n"
     ]
    },
    {
     "name": "stderr",
     "output_type": "stream",
     "text": [
      "INFO:gurobipy:Concurrent LP optimizer: dual simplex and barrier\n"
     ]
    },
    {
     "name": "stdout",
     "output_type": "stream",
     "text": [
      "Showing barrier log only...\n"
     ]
    },
    {
     "name": "stderr",
     "output_type": "stream",
     "text": [
      "INFO:gurobipy:Showing barrier log only...\n"
     ]
    },
    {
     "name": "stdout",
     "output_type": "stream",
     "text": [
      "\n"
     ]
    },
    {
     "name": "stderr",
     "output_type": "stream",
     "text": [
      "INFO:gurobipy:\n"
     ]
    },
    {
     "name": "stdout",
     "output_type": "stream",
     "text": [
      "Ordering time: 0.20s\n"
     ]
    },
    {
     "name": "stderr",
     "output_type": "stream",
     "text": [
      "INFO:gurobipy:Ordering time: 0.20s\n"
     ]
    },
    {
     "name": "stdout",
     "output_type": "stream",
     "text": [
      "\n"
     ]
    },
    {
     "name": "stderr",
     "output_type": "stream",
     "text": [
      "INFO:gurobipy:\n"
     ]
    },
    {
     "name": "stdout",
     "output_type": "stream",
     "text": [
      "Barrier statistics:\n"
     ]
    },
    {
     "name": "stderr",
     "output_type": "stream",
     "text": [
      "INFO:gurobipy:Barrier statistics:\n"
     ]
    },
    {
     "name": "stdout",
     "output_type": "stream",
     "text": [
      " Dense cols : 49\n"
     ]
    },
    {
     "name": "stderr",
     "output_type": "stream",
     "text": [
      "INFO:gurobipy: Dense cols : 49\n"
     ]
    },
    {
     "name": "stdout",
     "output_type": "stream",
     "text": [
      " AA' NZ     : 6.923e+05\n"
     ]
    },
    {
     "name": "stderr",
     "output_type": "stream",
     "text": [
      "INFO:gurobipy: AA' NZ     : 6.923e+05\n"
     ]
    },
    {
     "name": "stdout",
     "output_type": "stream",
     "text": [
      " Factor NZ  : 4.313e+06 (roughly 300 MB of memory)\n"
     ]
    },
    {
     "name": "stderr",
     "output_type": "stream",
     "text": [
      "INFO:gurobipy: Factor NZ  : 4.313e+06 (roughly 300 MB of memory)\n"
     ]
    },
    {
     "name": "stdout",
     "output_type": "stream",
     "text": [
      " Factor Ops : 2.191e+08 (less than 1 second per iteration)\n"
     ]
    },
    {
     "name": "stderr",
     "output_type": "stream",
     "text": [
      "INFO:gurobipy: Factor Ops : 2.191e+08 (less than 1 second per iteration)\n"
     ]
    },
    {
     "name": "stdout",
     "output_type": "stream",
     "text": [
      " Threads    : 3\n"
     ]
    },
    {
     "name": "stderr",
     "output_type": "stream",
     "text": [
      "INFO:gurobipy: Threads    : 3\n"
     ]
    },
    {
     "name": "stdout",
     "output_type": "stream",
     "text": [
      "\n"
     ]
    },
    {
     "name": "stderr",
     "output_type": "stream",
     "text": [
      "INFO:gurobipy:\n"
     ]
    },
    {
     "name": "stdout",
     "output_type": "stream",
     "text": [
      "                  Objective                Residual\n"
     ]
    },
    {
     "name": "stderr",
     "output_type": "stream",
     "text": [
      "INFO:gurobipy:                  Objective                Residual\n"
     ]
    },
    {
     "name": "stdout",
     "output_type": "stream",
     "text": [
      "Iter       Primal          Dual         Primal    Dual     Compl     Time\n"
     ]
    },
    {
     "name": "stderr",
     "output_type": "stream",
     "text": [
      "INFO:gurobipy:Iter       Primal          Dual         Primal    Dual     Compl     Time\n"
     ]
    },
    {
     "name": "stdout",
     "output_type": "stream",
     "text": [
      "   0   8.12128037e+14 -3.56384406e+16  8.17e+08 9.25e+01  2.30e+12     4s\n"
     ]
    },
    {
     "name": "stderr",
     "output_type": "stream",
     "text": [
      "INFO:gurobipy:   0   8.12128037e+14 -3.56384406e+16  8.17e+08 9.25e+01  2.30e+12     4s\n"
     ]
    },
    {
     "name": "stdout",
     "output_type": "stream",
     "text": [
      "   1   7.71446463e+14 -1.61684498e+16  6.43e+08 9.20e+03  1.55e+12     4s\n"
     ]
    },
    {
     "name": "stderr",
     "output_type": "stream",
     "text": [
      "INFO:gurobipy:   1   7.71446463e+14 -1.61684498e+16  6.43e+08 9.20e+03  1.55e+12     4s\n"
     ]
    },
    {
     "name": "stdout",
     "output_type": "stream",
     "text": [
      "   2   6.43320904e+14 -1.15801566e+16  3.88e+08 4.18e+03  9.42e+11     4s\n"
     ]
    },
    {
     "name": "stderr",
     "output_type": "stream",
     "text": [
      "INFO:gurobipy:   2   6.43320904e+14 -1.15801566e+16  3.88e+08 4.18e+03  9.42e+11     4s\n"
     ]
    },
    {
     "name": "stdout",
     "output_type": "stream",
     "text": [
      "   3   5.21486751e+14 -7.32341307e+15  1.28e+08 7.64e+02  3.13e+11     5s\n"
     ]
    },
    {
     "name": "stderr",
     "output_type": "stream",
     "text": [
      "INFO:gurobipy:   3   5.21486751e+14 -7.32341307e+15  1.28e+08 7.64e+02  3.13e+11     5s\n"
     ]
    },
    {
     "name": "stdout",
     "output_type": "stream",
     "text": [
      "   4   4.32135218e+14 -5.17115617e+15  4.46e+07 2.37e+02  1.11e+11     5s\n"
     ]
    },
    {
     "name": "stderr",
     "output_type": "stream",
     "text": [
      "INFO:gurobipy:   4   4.32135218e+14 -5.17115617e+15  4.46e+07 2.37e+02  1.11e+11     5s\n"
     ]
    },
    {
     "name": "stdout",
     "output_type": "stream",
     "text": [
      "   5   3.45736859e+14 -3.85787005e+15  1.45e+07 1.11e+02  3.87e+10     5s\n"
     ]
    },
    {
     "name": "stderr",
     "output_type": "stream",
     "text": [
      "INFO:gurobipy:   5   3.45736859e+14 -3.85787005e+15  1.45e+07 1.11e+02  3.87e+10     5s\n"
     ]
    },
    {
     "name": "stdout",
     "output_type": "stream",
     "text": [
      "   6   2.19187175e+14 -2.25927590e+15  4.18e+06 3.98e+01  1.21e+10     5s\n"
     ]
    },
    {
     "name": "stderr",
     "output_type": "stream",
     "text": [
      "INFO:gurobipy:   6   2.19187175e+14 -2.25927590e+15  4.18e+06 3.98e+01  1.21e+10     5s\n"
     ]
    },
    {
     "name": "stdout",
     "output_type": "stream",
     "text": [
      "   7   1.19950846e+14 -1.06881519e+15  1.31e+06 1.08e+01  4.01e+09     6s\n"
     ]
    },
    {
     "name": "stderr",
     "output_type": "stream",
     "text": [
      "INFO:gurobipy:   7   1.19950846e+14 -1.06881519e+15  1.31e+06 1.08e+01  4.01e+09     6s\n"
     ]
    },
    {
     "name": "stdout",
     "output_type": "stream",
     "text": [
      "   8   9.74835681e+13 -1.00953997e+15  9.26e+05 1.00e+01  3.11e+09     6s\n"
     ]
    },
    {
     "name": "stderr",
     "output_type": "stream",
     "text": [
      "INFO:gurobipy:   8   9.74835681e+13 -1.00953997e+15  9.26e+05 1.00e+01  3.11e+09     6s\n"
     ]
    },
    {
     "name": "stdout",
     "output_type": "stream",
     "text": [
      "   9   3.72412926e+13 -2.83051861e+14  1.41e+05 7.39e-01  5.75e+08     6s\n"
     ]
    },
    {
     "name": "stderr",
     "output_type": "stream",
     "text": [
      "INFO:gurobipy:   9   3.72412926e+13 -2.83051861e+14  1.41e+05 7.39e-01  5.75e+08     6s\n"
     ]
    },
    {
     "name": "stdout",
     "output_type": "stream",
     "text": [
      "  10   6.55606016e+12 -8.61537877e+13  1.16e+04 1.26e-01  1.10e+08     6s\n"
     ]
    },
    {
     "name": "stderr",
     "output_type": "stream",
     "text": [
      "INFO:gurobipy:  10   6.55606016e+12 -8.61537877e+13  1.16e+04 1.26e-01  1.10e+08     6s\n"
     ]
    },
    {
     "name": "stdout",
     "output_type": "stream",
     "text": [
      "  11   2.80828061e+12 -1.90853604e+13  2.87e+03 2.19e-02  2.43e+07     7s\n"
     ]
    },
    {
     "name": "stderr",
     "output_type": "stream",
     "text": [
      "INFO:gurobipy:  11   2.80828061e+12 -1.90853604e+13  2.87e+03 2.19e-02  2.43e+07     7s\n"
     ]
    },
    {
     "name": "stdout",
     "output_type": "stream",
     "text": [
      "  12   1.30398193e+12 -7.48132520e+12  1.08e+03 5.17e-03  9.46e+06     7s\n"
     ]
    },
    {
     "name": "stderr",
     "output_type": "stream",
     "text": [
      "INFO:gurobipy:  12   1.30398193e+12 -7.48132520e+12  1.08e+03 5.17e-03  9.46e+06     7s\n"
     ]
    },
    {
     "name": "stdout",
     "output_type": "stream",
     "text": [
      "  13   9.30210539e+11 -3.43765912e+12  6.76e+02 1.29e-03  4.68e+06     7s\n"
     ]
    },
    {
     "name": "stderr",
     "output_type": "stream",
     "text": [
      "INFO:gurobipy:  13   9.30210539e+11 -3.43765912e+12  6.76e+02 1.29e-03  4.68e+06     7s\n"
     ]
    },
    {
     "name": "stdout",
     "output_type": "stream",
     "text": [
      "  14   6.27409485e+11 -1.27300761e+12  4.13e+02 8.00e-10  2.03e+06     7s\n"
     ]
    },
    {
     "name": "stderr",
     "output_type": "stream",
     "text": [
      "INFO:gurobipy:  14   6.27409485e+11 -1.27300761e+12  4.13e+02 8.00e-10  2.03e+06     7s\n"
     ]
    },
    {
     "name": "stdout",
     "output_type": "stream",
     "text": [
      "  15   5.30403650e+11 -5.72867616e+11  3.39e+02 2.18e-10  1.18e+06     7s\n"
     ]
    },
    {
     "name": "stderr",
     "output_type": "stream",
     "text": [
      "INFO:gurobipy:  15   5.30403650e+11 -5.72867616e+11  3.39e+02 2.18e-10  1.18e+06     7s\n"
     ]
    },
    {
     "name": "stdout",
     "output_type": "stream",
     "text": [
      "  16   2.31342420e+11 -1.89674643e+11  1.16e+02 1.08e-09  4.46e+05     8s\n"
     ]
    },
    {
     "name": "stderr",
     "output_type": "stream",
     "text": [
      "INFO:gurobipy:  16   2.31342420e+11 -1.89674643e+11  1.16e+02 1.08e-09  4.46e+05     8s\n"
     ]
    },
    {
     "name": "stdout",
     "output_type": "stream",
     "text": [
      "  17   1.38891864e+11 -7.91557053e+10  5.95e+01 4.21e-11  2.30e+05     8s\n"
     ]
    },
    {
     "name": "stderr",
     "output_type": "stream",
     "text": [
      "INFO:gurobipy:  17   1.38891864e+11 -7.91557053e+10  5.95e+01 4.21e-11  2.30e+05     8s\n"
     ]
    },
    {
     "name": "stdout",
     "output_type": "stream",
     "text": [
      "  18   8.40357709e+10 -1.73900470e+10  2.89e+01 6.40e-10  1.07e+05     8s\n"
     ]
    },
    {
     "name": "stderr",
     "output_type": "stream",
     "text": [
      "INFO:gurobipy:  18   8.40357709e+10 -1.73900470e+10  2.89e+01 6.40e-10  1.07e+05     8s\n"
     ]
    },
    {
     "name": "stdout",
     "output_type": "stream",
     "text": [
      "  19   5.63462343e+10  5.10924099e+09  1.46e+01 2.33e-10  5.39e+04     8s\n"
     ]
    },
    {
     "name": "stderr",
     "output_type": "stream",
     "text": [
      "INFO:gurobipy:  19   5.63462343e+10  5.10924099e+09  1.46e+01 2.33e-10  5.39e+04     8s\n"
     ]
    },
    {
     "name": "stdout",
     "output_type": "stream",
     "text": [
      "  20   4.22093893e+10  1.33918714e+10  7.72e+00 1.16e-10  3.02e+04     9s\n"
     ]
    },
    {
     "name": "stderr",
     "output_type": "stream",
     "text": [
      "INFO:gurobipy:  20   4.22093893e+10  1.33918714e+10  7.72e+00 1.16e-10  3.02e+04     9s\n"
     ]
    },
    {
     "name": "stdout",
     "output_type": "stream",
     "text": [
      "  21   3.82951080e+10  1.64040695e+10  5.78e+00 4.95e-10  2.29e+04     9s\n"
     ]
    },
    {
     "name": "stderr",
     "output_type": "stream",
     "text": [
      "INFO:gurobipy:  21   3.82951080e+10  1.64040695e+10  5.78e+00 4.95e-10  2.29e+04     9s\n"
     ]
    },
    {
     "name": "stdout",
     "output_type": "stream",
     "text": [
      "  22   3.61366946e+10  1.92008067e+10  1.10e+01 3.22e-06  1.78e+04     9s\n"
     ]
    },
    {
     "name": "stderr",
     "output_type": "stream",
     "text": [
      "INFO:gurobipy:  22   3.61366946e+10  1.92008067e+10  1.10e+01 3.22e-06  1.78e+04     9s\n"
     ]
    },
    {
     "name": "stdout",
     "output_type": "stream",
     "text": [
      "  23   3.39743094e+10  2.10641148e+10  8.47e+00 9.20e-06  1.36e+04     9s\n"
     ]
    },
    {
     "name": "stderr",
     "output_type": "stream",
     "text": [
      "INFO:gurobipy:  23   3.39743094e+10  2.10641148e+10  8.47e+00 9.20e-06  1.36e+04     9s\n"
     ]
    },
    {
     "name": "stdout",
     "output_type": "stream",
     "text": [
      "  24   3.10249342e+10  2.29609349e+10  5.28e+00 1.58e-05  8.49e+03    10s\n"
     ]
    },
    {
     "name": "stderr",
     "output_type": "stream",
     "text": [
      "INFO:gurobipy:  24   3.10249342e+10  2.29609349e+10  5.28e+00 1.58e-05  8.49e+03    10s\n"
     ]
    },
    {
     "name": "stdout",
     "output_type": "stream",
     "text": [
      "  25   3.02731320e+10  2.39318976e+10  4.66e+00 1.94e-05  6.69e+03    10s\n"
     ]
    },
    {
     "name": "stderr",
     "output_type": "stream",
     "text": [
      "INFO:gurobipy:  25   3.02731320e+10  2.39318976e+10  4.66e+00 1.94e-05  6.69e+03    10s\n"
     ]
    },
    {
     "name": "stdout",
     "output_type": "stream",
     "text": [
      "  26   2.94113424e+10  2.45085496e+10  3.68e+00 2.19e-05  5.17e+03    10s\n"
     ]
    },
    {
     "name": "stderr",
     "output_type": "stream",
     "text": [
      "INFO:gurobipy:  26   2.94113424e+10  2.45085496e+10  3.68e+00 2.19e-05  5.17e+03    10s\n"
     ]
    },
    {
     "name": "stdout",
     "output_type": "stream",
     "text": [
      "  27   2.88794744e+10  2.49005847e+10  3.11e+00 2.37e-05  4.20e+03    11s\n"
     ]
    },
    {
     "name": "stderr",
     "output_type": "stream",
     "text": [
      "INFO:gurobipy:  27   2.88794744e+10  2.49005847e+10  3.11e+00 2.37e-05  4.20e+03    11s\n"
     ]
    },
    {
     "name": "stdout",
     "output_type": "stream",
     "text": [
      "  28   2.81073374e+10  2.53486280e+10  2.18e+00 2.58e-05  2.91e+03    11s\n"
     ]
    },
    {
     "name": "stderr",
     "output_type": "stream",
     "text": [
      "INFO:gurobipy:  28   2.81073374e+10  2.53486280e+10  2.18e+00 2.58e-05  2.91e+03    11s\n"
     ]
    },
    {
     "name": "stdout",
     "output_type": "stream",
     "text": [
      "  29   2.77692530e+10  2.56348155e+10  1.77e+00 2.73e-05  2.26e+03    11s\n"
     ]
    },
    {
     "name": "stderr",
     "output_type": "stream",
     "text": [
      "INFO:gurobipy:  29   2.77692530e+10  2.56348155e+10  1.77e+00 2.73e-05  2.26e+03    11s\n"
     ]
    },
    {
     "name": "stdout",
     "output_type": "stream",
     "text": [
      "  30   2.73024582e+10  2.58059230e+10  1.25e+00 2.83e-05  1.58e+03    12s\n"
     ]
    },
    {
     "name": "stderr",
     "output_type": "stream",
     "text": [
      "INFO:gurobipy:  30   2.73024582e+10  2.58059230e+10  1.25e+00 2.83e-05  1.58e+03    12s\n"
     ]
    },
    {
     "name": "stdout",
     "output_type": "stream",
     "text": [
      "  31   2.69378218e+10  2.59032731e+10  8.40e-01 2.89e-05  1.09e+03    12s\n"
     ]
    },
    {
     "name": "stderr",
     "output_type": "stream",
     "text": [
      "INFO:gurobipy:  31   2.69378218e+10  2.59032731e+10  8.40e-01 2.89e-05  1.09e+03    12s\n"
     ]
    },
    {
     "name": "stdout",
     "output_type": "stream",
     "text": [
      "  32   2.67819632e+10  2.59960897e+10  6.56e-01 2.94e-05  8.28e+02    13s\n"
     ]
    },
    {
     "name": "stderr",
     "output_type": "stream",
     "text": [
      "INFO:gurobipy:  32   2.67819632e+10  2.59960897e+10  6.56e-01 2.94e-05  8.28e+02    13s\n"
     ]
    },
    {
     "name": "stdout",
     "output_type": "stream",
     "text": [
      "  33   2.67314845e+10  2.60675194e+10  5.93e-01 2.97e-05  7.00e+02    13s\n"
     ]
    },
    {
     "name": "stderr",
     "output_type": "stream",
     "text": [
      "INFO:gurobipy:  33   2.67314845e+10  2.60675194e+10  5.93e-01 2.97e-05  7.00e+02    13s\n"
     ]
    },
    {
     "name": "stdout",
     "output_type": "stream",
     "text": [
      "  34   2.66819681e+10  2.61165249e+10  5.30e-01 2.99e-05  5.97e+02    13s\n"
     ]
    },
    {
     "name": "stderr",
     "output_type": "stream",
     "text": [
      "INFO:gurobipy:  34   2.66819681e+10  2.61165249e+10  5.30e-01 2.99e-05  5.97e+02    13s\n"
     ]
    },
    {
     "name": "stdout",
     "output_type": "stream",
     "text": [
      "  35   2.65231871e+10  2.61531079e+10  3.20e-01 2.99e-05  3.90e+02    14s\n"
     ]
    },
    {
     "name": "stderr",
     "output_type": "stream",
     "text": [
      "INFO:gurobipy:  35   2.65231871e+10  2.61531079e+10  3.20e-01 2.99e-05  3.90e+02    14s\n"
     ]
    },
    {
     "name": "stdout",
     "output_type": "stream",
     "text": [
      "  36   2.64878362e+10  2.61625431e+10  2.80e-01 2.98e-05  3.43e+02    14s\n"
     ]
    },
    {
     "name": "stderr",
     "output_type": "stream",
     "text": [
      "INFO:gurobipy:  36   2.64878362e+10  2.61625431e+10  2.80e-01 2.98e-05  3.43e+02    14s\n"
     ]
    },
    {
     "name": "stdout",
     "output_type": "stream",
     "text": [
      "  37   2.64392822e+10  2.61785669e+10  2.22e-01 2.90e-05  2.75e+02    14s\n"
     ]
    },
    {
     "name": "stderr",
     "output_type": "stream",
     "text": [
      "INFO:gurobipy:  37   2.64392822e+10  2.61785669e+10  2.22e-01 2.90e-05  2.75e+02    14s\n"
     ]
    },
    {
     "name": "stdout",
     "output_type": "stream",
     "text": [
      "  38   2.64006958e+10  2.61962670e+10  8.58e-01 2.63e-05  2.20e+02    15s\n"
     ]
    },
    {
     "name": "stderr",
     "output_type": "stream",
     "text": [
      "INFO:gurobipy:  38   2.64006958e+10  2.61962670e+10  8.58e-01 2.63e-05  2.20e+02    15s\n"
     ]
    },
    {
     "name": "stdout",
     "output_type": "stream",
     "text": [
      "  39   2.63787923e+10  2.62117751e+10  7.23e-01 1.93e-05  1.80e+02    15s\n"
     ]
    },
    {
     "name": "stderr",
     "output_type": "stream",
     "text": [
      "INFO:gurobipy:  39   2.63787923e+10  2.62117751e+10  7.23e-01 1.93e-05  1.80e+02    15s\n"
     ]
    },
    {
     "name": "stdout",
     "output_type": "stream",
     "text": [
      "  40   2.63685339e+10  2.62203755e+10  6.65e-01 1.57e-05  1.60e+02    16s\n"
     ]
    },
    {
     "name": "stderr",
     "output_type": "stream",
     "text": [
      "INFO:gurobipy:  40   2.63685339e+10  2.62203755e+10  6.65e-01 1.57e-05  1.60e+02    16s\n"
     ]
    },
    {
     "name": "stdout",
     "output_type": "stream",
     "text": [
      "  41   2.63318900e+10  2.62287949e+10  4.61e-01 1.19e-05  1.11e+02    16s\n"
     ]
    },
    {
     "name": "stderr",
     "output_type": "stream",
     "text": [
      "INFO:gurobipy:  41   2.63318900e+10  2.62287949e+10  4.61e-01 1.19e-05  1.11e+02    16s\n"
     ]
    },
    {
     "name": "stdout",
     "output_type": "stream",
     "text": [
      "  42   2.63075289e+10  2.62359923e+10  3.00e-01 8.63e-06  7.71e+01    17s\n"
     ]
    },
    {
     "name": "stderr",
     "output_type": "stream",
     "text": [
      "INFO:gurobipy:  42   2.63075289e+10  2.62359923e+10  3.00e-01 8.63e-06  7.71e+01    17s\n"
     ]
    },
    {
     "name": "stdout",
     "output_type": "stream",
     "text": [
      "  43   2.62982919e+10  2.62402330e+10  2.45e-01 6.72e-06  6.26e+01    17s\n"
     ]
    },
    {
     "name": "stderr",
     "output_type": "stream",
     "text": [
      "INFO:gurobipy:  43   2.62982919e+10  2.62402330e+10  2.45e-01 6.72e-06  6.26e+01    17s\n"
     ]
    },
    {
     "name": "stdout",
     "output_type": "stream",
     "text": [
      "  44   2.62968223e+10  2.62421815e+10  2.37e-01 5.89e-06  5.89e+01    17s\n"
     ]
    },
    {
     "name": "stderr",
     "output_type": "stream",
     "text": [
      "INFO:gurobipy:  44   2.62968223e+10  2.62421815e+10  2.37e-01 5.89e-06  5.89e+01    17s\n"
     ]
    },
    {
     "name": "stdout",
     "output_type": "stream",
     "text": [
      "  45   2.62884365e+10  2.62469109e+10  1.90e-01 3.75e-06  4.48e+01    18s\n"
     ]
    },
    {
     "name": "stderr",
     "output_type": "stream",
     "text": [
      "INFO:gurobipy:  45   2.62884365e+10  2.62469109e+10  1.90e-01 3.75e-06  4.48e+01    18s\n"
     ]
    },
    {
     "name": "stdout",
     "output_type": "stream",
     "text": [
      "  46   2.62774158e+10  2.62498472e+10  1.25e-01 2.43e-06  2.97e+01    18s\n"
     ]
    },
    {
     "name": "stderr",
     "output_type": "stream",
     "text": [
      "INFO:gurobipy:  46   2.62774158e+10  2.62498472e+10  1.25e-01 2.43e-06  2.97e+01    18s\n"
     ]
    },
    {
     "name": "stdout",
     "output_type": "stream",
     "text": [
      "  47   2.62672367e+10  2.62514332e+10  6.66e-02 1.74e-06  1.70e+01    19s\n"
     ]
    },
    {
     "name": "stderr",
     "output_type": "stream",
     "text": [
      "INFO:gurobipy:  47   2.62672367e+10  2.62514332e+10  6.66e-02 1.74e-06  1.70e+01    19s\n"
     ]
    },
    {
     "name": "stdout",
     "output_type": "stream",
     "text": [
      "  48   2.62663736e+10  2.62521099e+10  6.15e-02 1.46e-06  1.53e+01    19s\n"
     ]
    },
    {
     "name": "stderr",
     "output_type": "stream",
     "text": [
      "INFO:gurobipy:  48   2.62663736e+10  2.62521099e+10  6.15e-02 1.46e-06  1.53e+01    19s\n"
     ]
    },
    {
     "name": "stdout",
     "output_type": "stream",
     "text": [
      "  49   2.62624672e+10  2.62533789e+10  3.89e-02 8.97e-07  9.76e+00    19s\n"
     ]
    },
    {
     "name": "stderr",
     "output_type": "stream",
     "text": [
      "INFO:gurobipy:  49   2.62624672e+10  2.62533789e+10  3.89e-02 8.97e-07  9.76e+00    19s\n"
     ]
    },
    {
     "name": "stdout",
     "output_type": "stream",
     "text": [
      "  50   2.62608076e+10  2.62541493e+10  2.94e-02 5.64e-07  7.17e+00    20s\n"
     ]
    },
    {
     "name": "stderr",
     "output_type": "stream",
     "text": [
      "INFO:gurobipy:  50   2.62608076e+10  2.62541493e+10  2.94e-02 5.64e-07  7.17e+00    20s\n"
     ]
    },
    {
     "name": "stdout",
     "output_type": "stream",
     "text": [
      "  51   2.62590058e+10  2.62547515e+10  1.92e-02 3.19e-07  4.59e+00    20s\n"
     ]
    },
    {
     "name": "stderr",
     "output_type": "stream",
     "text": [
      "INFO:gurobipy:  51   2.62590058e+10  2.62547515e+10  1.92e-02 3.19e-07  4.59e+00    20s\n"
     ]
    },
    {
     "name": "stdout",
     "output_type": "stream",
     "text": [
      "  52   2.62580757e+10  2.62548511e+10  1.40e-02 3.46e-07  3.47e+00    20s\n"
     ]
    },
    {
     "name": "stderr",
     "output_type": "stream",
     "text": [
      "INFO:gurobipy:  52   2.62580757e+10  2.62548511e+10  1.40e-02 3.46e-07  3.47e+00    20s\n"
     ]
    },
    {
     "name": "stdout",
     "output_type": "stream",
     "text": [
      "  53   2.62574121e+10  2.62551736e+10  1.02e-02 3.73e-07  2.42e+00    21s\n"
     ]
    },
    {
     "name": "stderr",
     "output_type": "stream",
     "text": [
      "INFO:gurobipy:  53   2.62574121e+10  2.62551736e+10  1.02e-02 3.73e-07  2.42e+00    21s\n"
     ]
    },
    {
     "name": "stdout",
     "output_type": "stream",
     "text": [
      "  54   2.62567610e+10  2.62553336e+10  6.56e-03 3.52e-07  1.54e+00    21s\n"
     ]
    },
    {
     "name": "stderr",
     "output_type": "stream",
     "text": [
      "INFO:gurobipy:  54   2.62567610e+10  2.62553336e+10  6.56e-03 3.52e-07  1.54e+00    21s\n"
     ]
    },
    {
     "name": "stdout",
     "output_type": "stream",
     "text": [
      "  55   2.62563280e+10  2.62554232e+10  4.13e-03 3.01e-07  9.79e-01    21s\n"
     ]
    },
    {
     "name": "stderr",
     "output_type": "stream",
     "text": [
      "INFO:gurobipy:  55   2.62563280e+10  2.62554232e+10  4.13e-03 3.01e-07  9.79e-01    21s\n"
     ]
    },
    {
     "name": "stdout",
     "output_type": "stream",
     "text": [
      "  56   2.62561484e+10  2.62554885e+10  3.13e-03 2.30e-07  7.16e-01    22s\n"
     ]
    },
    {
     "name": "stderr",
     "output_type": "stream",
     "text": [
      "INFO:gurobipy:  56   2.62561484e+10  2.62554885e+10  3.13e-03 2.30e-07  7.16e-01    22s\n"
     ]
    },
    {
     "name": "stdout",
     "output_type": "stream",
     "text": [
      "  57   2.62560020e+10  2.62555232e+10  2.30e-03 1.82e-07  5.20e-01    22s\n"
     ]
    },
    {
     "name": "stderr",
     "output_type": "stream",
     "text": [
      "INFO:gurobipy:  57   2.62560020e+10  2.62555232e+10  2.30e-03 1.82e-07  5.20e-01    22s\n"
     ]
    },
    {
     "name": "stdout",
     "output_type": "stream",
     "text": [
      "  58   2.62558679e+10  2.62555460e+10  1.54e-03 1.40e-07  3.50e-01    22s\n"
     ]
    },
    {
     "name": "stderr",
     "output_type": "stream",
     "text": [
      "INFO:gurobipy:  58   2.62558679e+10  2.62555460e+10  1.54e-03 1.40e-07  3.50e-01    22s\n"
     ]
    },
    {
     "name": "stdout",
     "output_type": "stream",
     "text": [
      "  59   2.62558124e+10  2.62555600e+10  1.23e-03 6.22e-07  2.75e-01    22s\n"
     ]
    },
    {
     "name": "stderr",
     "output_type": "stream",
     "text": [
      "INFO:gurobipy:  59   2.62558124e+10  2.62555600e+10  1.23e-03 6.22e-07  2.75e-01    22s\n"
     ]
    },
    {
     "name": "stdout",
     "output_type": "stream",
     "text": [
      "  60   2.62557231e+10  2.62555708e+10  7.42e-04 3.05e-07  1.66e-01    22s\n"
     ]
    },
    {
     "name": "stderr",
     "output_type": "stream",
     "text": [
      "INFO:gurobipy:  60   2.62557231e+10  2.62555708e+10  7.42e-04 3.05e-07  1.66e-01    22s\n"
     ]
    },
    {
     "name": "stdout",
     "output_type": "stream",
     "text": [
      "  61   2.62556866e+10  2.62555751e+10  5.43e-04 2.26e-07  1.22e-01    23s\n"
     ]
    },
    {
     "name": "stderr",
     "output_type": "stream",
     "text": [
      "INFO:gurobipy:  61   2.62556866e+10  2.62555751e+10  5.43e-04 2.26e-07  1.22e-01    23s\n"
     ]
    },
    {
     "name": "stdout",
     "output_type": "stream",
     "text": [
      "  62   2.62556495e+10  2.62555803e+10  3.39e-04 1.08e-07  7.55e-02    23s\n"
     ]
    },
    {
     "name": "stderr",
     "output_type": "stream",
     "text": [
      "INFO:gurobipy:  62   2.62556495e+10  2.62555803e+10  3.39e-04 1.08e-07  7.55e-02    23s\n"
     ]
    },
    {
     "name": "stdout",
     "output_type": "stream",
     "text": [
      "  63   2.62556375e+10  2.62555827e+10  2.72e-04 7.83e-08  5.99e-02    23s\n"
     ]
    },
    {
     "name": "stderr",
     "output_type": "stream",
     "text": [
      "INFO:gurobipy:  63   2.62556375e+10  2.62555827e+10  2.72e-04 7.83e-08  5.99e-02    23s\n"
     ]
    },
    {
     "name": "stdout",
     "output_type": "stream",
     "text": [
      "  64   2.62556048e+10  2.62555856e+10  9.36e-05 7.23e-08  2.10e-02    23s\n"
     ]
    },
    {
     "name": "stderr",
     "output_type": "stream",
     "text": [
      "INFO:gurobipy:  64   2.62556048e+10  2.62555856e+10  9.36e-05 7.23e-08  2.10e-02    23s\n"
     ]
    },
    {
     "name": "stdout",
     "output_type": "stream",
     "text": [
      "  65   2.62555946e+10  2.62555868e+10  3.79e-05 4.03e-08  8.53e-03    23s\n"
     ]
    },
    {
     "name": "stderr",
     "output_type": "stream",
     "text": [
      "INFO:gurobipy:  65   2.62555946e+10  2.62555868e+10  3.79e-05 4.03e-08  8.53e-03    23s\n"
     ]
    },
    {
     "name": "stdout",
     "output_type": "stream",
     "text": [
      "  66   2.62555892e+10  2.62555871e+10  1.04e-05 2.42e-08  2.26e-03    24s\n"
     ]
    },
    {
     "name": "stderr",
     "output_type": "stream",
     "text": [
      "INFO:gurobipy:  66   2.62555892e+10  2.62555871e+10  1.04e-05 2.42e-08  2.26e-03    24s\n"
     ]
    },
    {
     "name": "stdout",
     "output_type": "stream",
     "text": [
      "  67   2.62555881e+10  2.62555873e+10  6.49e-06 7.30e-09  8.55e-04    24s\n"
     ]
    },
    {
     "name": "stderr",
     "output_type": "stream",
     "text": [
      "INFO:gurobipy:  67   2.62555881e+10  2.62555873e+10  6.49e-06 7.30e-09  8.55e-04    24s\n"
     ]
    },
    {
     "name": "stdout",
     "output_type": "stream",
     "text": [
      "  68   2.62555875e+10  2.62555873e+10  1.54e-06 1.99e-09  1.56e-04    24s\n"
     ]
    },
    {
     "name": "stderr",
     "output_type": "stream",
     "text": [
      "INFO:gurobipy:  68   2.62555875e+10  2.62555873e+10  1.54e-06 1.99e-09  1.56e-04    24s\n"
     ]
    },
    {
     "name": "stdout",
     "output_type": "stream",
     "text": [
      "  69   2.62555874e+10  2.62555873e+10  1.17e-07 2.47e-09  4.73e-06    24s\n"
     ]
    },
    {
     "name": "stderr",
     "output_type": "stream",
     "text": [
      "INFO:gurobipy:  69   2.62555874e+10  2.62555873e+10  1.17e-07 2.47e-09  4.73e-06    24s\n"
     ]
    },
    {
     "name": "stdout",
     "output_type": "stream",
     "text": [
      "  70   2.62555873e+10  2.62555873e+10  2.46e-09 4.09e-09  9.20e-10    24s\n"
     ]
    },
    {
     "name": "stderr",
     "output_type": "stream",
     "text": [
      "INFO:gurobipy:  70   2.62555873e+10  2.62555873e+10  2.46e-09 4.09e-09  9.20e-10    24s\n"
     ]
    },
    {
     "name": "stdout",
     "output_type": "stream",
     "text": [
      "\n"
     ]
    },
    {
     "name": "stderr",
     "output_type": "stream",
     "text": [
      "INFO:gurobipy:\n"
     ]
    },
    {
     "name": "stdout",
     "output_type": "stream",
     "text": [
      "Barrier solved model in 70 iterations and 24.43 seconds (14.73 work units)\n"
     ]
    },
    {
     "name": "stderr",
     "output_type": "stream",
     "text": [
      "INFO:gurobipy:Barrier solved model in 70 iterations and 24.43 seconds (14.73 work units)\n"
     ]
    },
    {
     "name": "stdout",
     "output_type": "stream",
     "text": [
      "Optimal objective 2.62555873e+10\n"
     ]
    },
    {
     "name": "stderr",
     "output_type": "stream",
     "text": [
      "INFO:gurobipy:Optimal objective 2.62555873e+10\n"
     ]
    },
    {
     "name": "stdout",
     "output_type": "stream",
     "text": [
      "\n"
     ]
    },
    {
     "name": "stderr",
     "output_type": "stream",
     "text": [
      "INFO:gurobipy:\n"
     ]
    },
    {
     "name": "stdout",
     "output_type": "stream",
     "text": [
      "Crossover log...\n"
     ]
    },
    {
     "name": "stderr",
     "output_type": "stream",
     "text": [
      "INFO:gurobipy:Crossover log...\n"
     ]
    },
    {
     "name": "stdout",
     "output_type": "stream",
     "text": [
      "\n"
     ]
    },
    {
     "name": "stderr",
     "output_type": "stream",
     "text": [
      "INFO:gurobipy:\n"
     ]
    },
    {
     "name": "stdout",
     "output_type": "stream",
     "text": [
      "  120335 DPushes remaining with DInf 3.3295551e-04                25s\n"
     ]
    },
    {
     "name": "stderr",
     "output_type": "stream",
     "text": [
      "INFO:gurobipy:  120335 DPushes remaining with DInf 3.3295551e-04                25s\n"
     ]
    },
    {
     "name": "stdout",
     "output_type": "stream",
     "text": [
      "   18954 DPushes remaining with DInf 6.7415920e-05                26s\n"
     ]
    },
    {
     "name": "stderr",
     "output_type": "stream",
     "text": [
      "INFO:gurobipy:   18954 DPushes remaining with DInf 6.7415920e-05                26s\n"
     ]
    },
    {
     "name": "stdout",
     "output_type": "stream",
     "text": [
      "       0 DPushes remaining with DInf 6.7415920e-05                29s\n"
     ]
    },
    {
     "name": "stderr",
     "output_type": "stream",
     "text": [
      "INFO:gurobipy:       0 DPushes remaining with DInf 6.7415920e-05                29s\n"
     ]
    },
    {
     "name": "stdout",
     "output_type": "stream",
     "text": [
      "Warning: Markowitz tolerance tightened to 0.25\n"
     ]
    },
    {
     "name": "stderr",
     "output_type": "stream",
     "text": [
      "INFO:gurobipy:Warning: Markowitz tolerance tightened to 0.25\n"
     ]
    },
    {
     "name": "stdout",
     "output_type": "stream",
     "text": [
      "\n"
     ]
    },
    {
     "name": "stderr",
     "output_type": "stream",
     "text": [
      "INFO:gurobipy:\n"
     ]
    },
    {
     "name": "stdout",
     "output_type": "stream",
     "text": [
      "   18307 PPushes remaining with PInf 9.9609922e-05                29s\n"
     ]
    },
    {
     "name": "stderr",
     "output_type": "stream",
     "text": [
      "INFO:gurobipy:   18307 PPushes remaining with PInf 9.9609922e-05                29s\n"
     ]
    },
    {
     "name": "stdout",
     "output_type": "stream",
     "text": [
      "    5351 PPushes remaining with PInf 1.3249551e-01                30s\n"
     ]
    },
    {
     "name": "stderr",
     "output_type": "stream",
     "text": [
      "INFO:gurobipy:    5351 PPushes remaining with PInf 1.3249551e-01                30s\n"
     ]
    },
    {
     "name": "stdout",
     "output_type": "stream",
     "text": [
      "       0 PPushes remaining with PInf 0.0000000e+00                31s\n"
     ]
    },
    {
     "name": "stderr",
     "output_type": "stream",
     "text": [
      "INFO:gurobipy:       0 PPushes remaining with PInf 0.0000000e+00                31s\n"
     ]
    },
    {
     "name": "stdout",
     "output_type": "stream",
     "text": [
      "\n"
     ]
    },
    {
     "name": "stderr",
     "output_type": "stream",
     "text": [
      "INFO:gurobipy:\n"
     ]
    },
    {
     "name": "stdout",
     "output_type": "stream",
     "text": [
      "  Push phase complete: Pinf 0.0000000e+00, Dinf 1.1346858e-03     31s\n"
     ]
    },
    {
     "name": "stderr",
     "output_type": "stream",
     "text": [
      "INFO:gurobipy:  Push phase complete: Pinf 0.0000000e+00, Dinf 1.1346858e-03     31s\n"
     ]
    },
    {
     "name": "stdout",
     "output_type": "stream",
     "text": [
      "\n"
     ]
    },
    {
     "name": "stderr",
     "output_type": "stream",
     "text": [
      "INFO:gurobipy:\n"
     ]
    },
    {
     "name": "stdout",
     "output_type": "stream",
     "text": [
      "Iteration    Objective       Primal Inf.    Dual Inf.      Time\n"
     ]
    },
    {
     "name": "stderr",
     "output_type": "stream",
     "text": [
      "INFO:gurobipy:Iteration    Objective       Primal Inf.    Dual Inf.      Time\n"
     ]
    },
    {
     "name": "stdout",
     "output_type": "stream",
     "text": [
      "   82473    2.6255587e+10   0.000000e+00   1.134678e-03     31s\n"
     ]
    },
    {
     "name": "stderr",
     "output_type": "stream",
     "text": [
      "INFO:gurobipy:   82473    2.6255587e+10   0.000000e+00   1.134678e-03     31s\n"
     ]
    },
    {
     "name": "stdout",
     "output_type": "stream",
     "text": [
      "\n"
     ]
    },
    {
     "name": "stderr",
     "output_type": "stream",
     "text": [
      "INFO:gurobipy:\n"
     ]
    },
    {
     "name": "stdout",
     "output_type": "stream",
     "text": [
      "Solved with barrier\n"
     ]
    },
    {
     "name": "stderr",
     "output_type": "stream",
     "text": [
      "INFO:gurobipy:Solved with barrier\n"
     ]
    },
    {
     "name": "stdout",
     "output_type": "stream",
     "text": [
      "   82512    2.6255587e+10   0.000000e+00   0.000000e+00     32s\n"
     ]
    },
    {
     "name": "stderr",
     "output_type": "stream",
     "text": [
      "INFO:gurobipy:   82512    2.6255587e+10   0.000000e+00   0.000000e+00     32s\n"
     ]
    },
    {
     "name": "stdout",
     "output_type": "stream",
     "text": [
      "\n"
     ]
    },
    {
     "name": "stderr",
     "output_type": "stream",
     "text": [
      "INFO:gurobipy:\n"
     ]
    },
    {
     "name": "stdout",
     "output_type": "stream",
     "text": [
      "Solved in 82512 iterations and 32.24 seconds (20.69 work units)\n"
     ]
    },
    {
     "name": "stderr",
     "output_type": "stream",
     "text": [
      "INFO:gurobipy:Solved in 82512 iterations and 32.24 seconds (20.69 work units)\n"
     ]
    },
    {
     "name": "stdout",
     "output_type": "stream",
     "text": [
      "Optimal objective  2.625558735e+10\n"
     ]
    },
    {
     "name": "stderr",
     "output_type": "stream",
     "text": [
      "INFO:gurobipy:Optimal objective  2.625558735e+10\n",
      "INFO:linopy.constants: Optimization successful: \n",
      "Status: ok\n",
      "Termination condition: optimal\n",
      "Solution: 712548 primals, 1442568 duals\n",
      "Objective: 2.63e+10\n",
      "Solver model: available\n",
      "Solver message: 2\n",
      "\n",
      "/opt/anaconda3/envs/price-formation/lib/python3.11/site-packages/pypsa/optimization/optimize.py:357: FutureWarning: A value is trying to be set on a copy of a DataFrame or Series through chained assignment using an inplace method.\n",
      "The behavior will change in pandas 3.0. This inplace method will never work because the intermediate object on which we are setting values always behaves as a copy.\n",
      "\n",
      "For example, when doing 'df[col].method(value, inplace=True)', try using 'df.method({col: value}, inplace=True)' or df[col] = df[col].method(value) instead, to perform the operation inplace on the original object.\n",
      "\n",
      "\n",
      "  n.df(c)[attr + \"_opt\"].update(df)\n",
      "INFO:pypsa.optimization.optimize:The shadow-prices of the constraints Generator-fix-p-lower, Generator-fix-p-upper, Generator-ext-p-lower, Generator-ext-p-upper, Link-fix-p-lower, Link-fix-p-upper, Link-ext-p-lower, Link-ext-p-upper, Store-fix-e-lower, Store-fix-e-upper, Store-ext-e-lower, Store-ext-e-upper, StorageUnit-fix-p_dispatch-lower, StorageUnit-fix-p_dispatch-upper, StorageUnit-fix-p_store-lower, StorageUnit-fix-p_store-upper, StorageUnit-fix-state_of_charge-lower, StorageUnit-fix-state_of_charge-upper, StorageUnit-energy_balance, Store-energy_balance were not assigned to the network.\n"
     ]
    },
    {
     "data": {
      "text/plain": [
       "('ok', 'optimal')"
      ]
     },
     "execution_count": 76,
     "metadata": {},
     "output_type": "execute_result"
    }
   ],
   "source": [
    "n_without_fixation.optimize.solve_model(\n",
    "    solver_name=\"gurobi\"\n",
    ")"
   ]
  },
  {
   "cell_type": "code",
   "execution_count": 78,
   "metadata": {},
   "outputs": [
    {
     "data": {
      "text/plain": [
       "Bus\n",
       "DE                                        0.000000\n",
       "DE gas                                   29.999904\n",
       "DE gas primary                           24.577318\n",
       "DE industry methanol                    144.935763\n",
       "DE methanol                              12.981971\n",
       "DE oil                                   63.035295\n",
       "DE oil primary                           52.921214\n",
       "DE renewable gas                         35.093957\n",
       "DE renewable oil                         63.025131\n",
       "DE shipping methanol                    144.936342\n",
       "DE0 0                                    87.756815\n",
       "DE0 0 EV battery                         92.778512\n",
       "DE0 0 H2                                 91.529206\n",
       "DE0 0 agriculture machinery oil         199.825505\n",
       "DE0 0 battery                            88.409579\n",
       "DE0 0 coal for industry                 188.383475\n",
       "DE0 0 gas for industry                  130.074374\n",
       "DE0 0 kerosene for aviation              76.723970\n",
       "DE0 0 land transport oil                199.825987\n",
       "DE0 0 naphtha for industry              125.594044\n",
       "DE0 0 rural heat                         57.644699\n",
       "DE0 0 rural water tanks                  56.327534\n",
       "DE0 0 shipping oil                      199.825096\n",
       "DE0 0 urban central heat                 33.415665\n",
       "DE0 0 urban central water tanks          32.541544\n",
       "DE0 0 urban decentral heat               71.827393\n",
       "DE0 0 urban decentral water tanks        70.453205\n",
       "EU                                        0.000000\n",
       "EU biogas                               118.063299\n",
       "EU coal                                   9.564239\n",
       "EU gas                               -45318.001606\n",
       "EU gas primary                           24.578653\n",
       "EU industry methanol                      0.000000\n",
       "EU lignite                          -360586.786096\n",
       "EU methanol                              12.983872\n",
       "EU oil                               -71868.748905\n",
       "EU oil primary                           52.921326\n",
       "EU renewable gas                         29.979632\n",
       "EU renewable oil                         63.016280\n",
       "EU shipping methanol                      0.000000\n",
       "EU solid biomass                         94.117505\n",
       "EU uranium                          -235678.774616\n",
       "co2 atmosphere                         -532.011541\n",
       "co2 sequestered                        -406.976691\n",
       "co2 stored                             -406.986469\n",
       "process emissions                      -419.527729\n",
       "solid biomass for industry               66.965128\n",
       "dtype: float64"
      ]
     },
     "execution_count": 78,
     "metadata": {},
     "output_type": "execute_result"
    }
   ],
   "source": [
    "n.buses_t.marginal_price.mean()"
   ]
  },
  {
   "cell_type": "code",
   "execution_count": 11,
   "metadata": {},
   "outputs": [
    {
     "name": "stdout",
     "output_type": "stream",
     "text": [
      "Empirischer RMSE über 96h: 8.98 MW\n"
     ]
    },
    {
     "data": {
      "image/png": "[encoded data removed]",
      "text/plain": [
       "<Figure size 1200x500 with 1 Axes>"
      ]
     },
     "metadata": {},
     "output_type": "display_data"
    }
   ],
   "source": [
    "import numpy as np\n",
    "import matplotlib.pyplot as plt\n",
    "from scipy.interpolate import interp1d\n",
    "from sklearn.metrics import mean_squared_error\n",
    "\n",
    "# 1. Erzeuge zufällige echte PV-Zeitreihe in MW\n",
    "np.random.seed(42)\n",
    "real_pv = np.random.uniform(low=10, high=100, size=96)  # z. B. 10–100 MW\n",
    "\n",
    "# 2. RMSE-Werte aus Tabelle (LSTM z. B.)\n",
    "horizons = np.array([0, 24, 48, 72, 96])\n",
    "mse_values = np.array([0, 0.108, 0.152, 0.166, 0.185])\n",
    "rmse_standardized = np.sqrt(mse_values)\n",
    "\n",
    "# 3. Rückskalieren auf reale MW-Einheit\n",
    "# Nehmen wir an, reale PV-Werte haben Standardabweichung ≈ 25 MW (alternativ: berechne aus real_pv)\n",
    "scaling_factor = np.std(real_pv)  # besser realistisch als fix\n",
    "rmse_MW = rmse_standardized * scaling_factor\n",
    "\n",
    "# 4. Interpolation der RMSE auf 96 Stunden\n",
    "interp_rmse = interp1d(horizons, rmse_MW, kind='linear', fill_value='extrapolate')\n",
    "rmse_per_hour = interp_rmse(np.arange(1, 97))\n",
    "\n",
    "# 5. Generiere Rauschen und synthetische Vorhersage\n",
    "noise = np.random.normal(loc=0, scale=rmse_per_hour)\n",
    "synthetic_forecast = real_pv + noise\n",
    "\n",
    "# 6. Empirischer RMSE\n",
    "empirical_rmse = np.sqrt(mean_squared_error(real_pv, synthetic_forecast))\n",
    "print(f\"Empirischer RMSE über 96h: {empirical_rmse:.2f} MW\")\n",
    "\n",
    "# 7. Plot\n",
    "plt.figure(figsize=(12, 5))\n",
    "plt.plot(real_pv, label='Echte PV-Werte', linewidth=2)\n",
    "plt.plot(synthetic_forecast, label='Verrauschte Prognose', linestyle='--')\n",
    "plt.fill_between(range(96),\n",
    "                 real_pv - rmse_per_hour,\n",
    "                 real_pv + rmse_per_hour,\n",
    "                 color='gray', alpha=0.2, label='RMSE-Band')\n",
    "plt.title('PV-Zeitreihe mit realistischem Prognose-Rauschen')\n",
    "plt.xlabel('Stunde')\n",
    "plt.ylabel('Leistung (MW)')\n",
    "plt.legend()\n",
    "plt.grid(True)\n",
    "plt.tight_layout()\n",
    "plt.show()\n"
   ]
  },
  {
   "cell_type": "code",
   "execution_count": 105,
   "metadata": {},
   "outputs": [],
   "source": [
    "import numpy as np\n",
    "import matplotlib.pyplot as plt\n",
    "from scipy.interpolate import interp1d\n",
    "from sklearn.metrics import mean_squared_error\n",
    "\n",
    "# 1. Erzeuge 144 echte Windwerte (zufällig)\n",
    "np.random.seed(123)\n",
    "real_wind = np.random.uniform(low=50, high=150, size=144)  # z. B. in MW\n",
    "\n",
    "# 2. MSE-Werte für LSTM-Modell aus Tabelle bis 168h\n",
    "horizons = np.array([0, 24, 48, 72, 96, 168, 144*3])\n",
    "mse_values = np.array([0, 0.499, 0.794, 0.899, 0.943, 1.011, 1.211])\n",
    "rmse_std = np.sqrt(mse_values)  # RMSE in Standardform\n",
    "\n",
    "\n"
   ]
  },
  {
   "cell_type": "code",
   "execution_count": 114,
   "metadata": {},
   "outputs": [],
   "source": [
    "import numpy as np\n",
    "import matplotlib.pyplot as plt\n",
    "from scipy.interpolate import interp1d\n",
    "from sklearn.metrics import mean_squared_error\n",
    "\n",
    "error_std = [[], [], [], [], []]\n",
    "k=0\n",
    "for i in [48, 72, 96, 168, 336]:  \n",
    "    for j in range(0, 1000):\n",
    "        # 1. Erzeuge 144 echte Windwerte (zufällig)\n",
    "        #np.random.seed(123)\n",
    "        real_wind = np.random.uniform(low=50, high=150, size=i)  # z. B. in MW\n",
    "\n",
    "        # 2. MSE-Werte für LSTM-Modell aus Tabelle bis 168h\n",
    "        horizons = np.array([0, 24, 48, 72, 96, 168, 336])\n",
    "        #horizons = np.array([0, 24, 48, 72, 96, 168, 336])/2\n",
    "        #mse_values = np.array([0, 0.499/2, 0.499+(0.794-0.499)/2, 0.794+(0.899-0.794)/2, 0.899+(0.943-0.899)/2, 0.943+(1.011-0.943)/2, 1.011+(1.064-0.943)/2])\n",
    "        mse_values = np.array([0, 0.499, 0.794, 0.899, 0.943, 1.011, 1.064])\n",
    "        rmse_std = np.sqrt(mse_values)  # RMSE in Standardform\n",
    "\n",
    "\n",
    "        # 3. Skaliere RMSE auf echte MW-Einheit\n",
    "        scaling_factor = np.std(real_wind)\n",
    "        rmse_MW = rmse_std * scaling_factor\n",
    "\n",
    "        # 4. Interpolation der RMSE auf 144h\n",
    "        interp_rmse = interp1d(horizons, rmse_MW, kind='cubic', fill_value='extrapolate')\n",
    "        rmse_per_hour = interp_rmse(np.arange(0, i, 1))  # Stunden 1–144\n",
    "        test = np.linspace(1.4, 1, 168)\n",
    "        ones = np.ones(168)\n",
    "        test =  np.concatenate((test, ones))\n",
    "        # 5. Rauschen generieren und synthetische Prognose erzeugen\n",
    "        noise = np.random.normal(loc=0, scale=test[:i]*rmse_per_hour)\n",
    "        synthetic_forecast = noise + real_wind\n",
    "        synthetic_forecast = synthetic_forecast.clip(min=0)\n",
    "\n",
    "        # 6. Empirischen RMSE berechnen\n",
    "        empirical_rmse = np.sqrt(mean_squared_error(real_wind, synthetic_forecast))\n",
    "        #print(f\"Empirischer RMSE über 144h: {empirical_rmse:.2f} MW\")\n",
    "\n",
    "        # 7. standardized error\n",
    "        y_true_std = (real_wind - np.mean(real_wind) ) / np.std(real_wind)\n",
    "        y_pred_std = (synthetic_forecast - np.mean(real_wind)) / np.std(real_wind)\n",
    "\n",
    "        mse_standardized = np.mean((y_true_std - y_pred_std) ** 2)\n",
    "        \n",
    "        error_std[k].append(mse_standardized)\n",
    "        \n",
    "        #print(f\"Empirischer RMSE über 144h: {mse_standardized:.2f} MW\")\n",
    "    '''\n",
    "        plt.figure(figsize=(14, 5))\n",
    "        plt.plot(real_wind, label='Echte Wind-Leistung', linewidth=2)\n",
    "        plt.plot(synthetic_forecast, label='Verrauschte Prognose', linestyle='--')\n",
    "        plt.fill_between(range(i),\n",
    "                        real_wind - rmse_per_hour,\n",
    "                        real_wind + rmse_per_hour,\n",
    "                        color='gray', alpha=0.2, label='RMSE-Band')\n",
    "        plt.title('Wind-Zeitreihe mit synthetischem Prognosefehler (LSTM, bis 144h)')\n",
    "        plt.xlabel('Stunde')\n",
    "        plt.ylabel('Leistung (MW)')\n",
    "        plt.legend()\n",
    "        plt.grid(True)\n",
    "        plt.tight_layout()\n",
    "        plt.show()\n",
    "    '''\n",
    "    k = k+1"
   ]
  },
  {
   "cell_type": "code",
   "execution_count": 115,
   "metadata": {},
   "outputs": [
    {
     "name": "stdout",
     "output_type": "stream",
     "text": [
      "STD own:    0.756\n",
      "STD paper:  0.794\n",
      "\n",
      "STD own:    0.942\n",
      "STD paper:  0.899\n",
      "\n",
      "STD own:    1.043\n",
      "STD paper:  0.943\n",
      "\n",
      "STD own:    1.08\n",
      "STD paper:  1.011\n",
      "\n",
      "STD own:    1.059\n",
      "STD paper:  1.064\n",
      "\n"
     ]
    }
   ],
   "source": [
    "for i in range(0,5):\n",
    "    print(\"STD own:   \", np.mean(error_std[i]).round(3))\n",
    "    print(\"STD paper: \", mse_values[i+2])\n",
    "    print()"
   ]
  },
  {
   "cell_type": "code",
   "execution_count": null,
   "metadata": {},
   "outputs": [],
   "source": []
  }
 ],
 "metadata": {
  "kernelspec": {
   "display_name": "price-formation",
   "language": "python",
   "name": "python3"
  },
  "language_info": {
   "codemirror_mode": {
    "name": "ipython",
    "version": 3
   },
   "file_extension": ".py",
   "mimetype": "text/x-python",
   "name": "python",
   "nbconvert_exporter": "python",
   "pygments_lexer": "ipython3",
   "version": "3.11.0"
  }
 },
 "nbformat": 4,
 "nbformat_minor": 2
}
